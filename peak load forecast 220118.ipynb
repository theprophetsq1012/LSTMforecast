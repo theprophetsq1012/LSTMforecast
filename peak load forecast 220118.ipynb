{
 "cells": [
  {
   "cell_type": "code",
   "execution_count": 1,
   "metadata": {},
   "outputs": [
    {
     "name": "stderr",
     "output_type": "stream",
     "text": [
      "2023-01-16 23:47:18.610321: I tensorflow/core/util/util.cc:169] oneDNN custom operations are on. You may see slightly different numerical results due to floating-point round-off errors from different computation orders. To turn them off, set the environment variable `TF_ENABLE_ONEDNN_OPTS=0`.\n",
      "2023-01-16 23:47:18.617434: W tensorflow/stream_executor/platform/default/dso_loader.cc:64] Could not load dynamic library 'libcudart.so.11.0'; dlerror: libcudart.so.11.0: cannot open shared object file: No such file or directory\n",
      "2023-01-16 23:47:18.617457: I tensorflow/stream_executor/cuda/cudart_stub.cc:29] Ignore above cudart dlerror if you do not have a GPU set up on your machine.\n"
     ]
    },
    {
     "ename": "ModuleNotFoundError",
     "evalue": "No module named 'tensorflow.random.set_seed'",
     "output_type": "error",
     "traceback": [
      "\u001b[0;31m---------------------------------------------------------------------------\u001b[0m",
      "\u001b[0;31mModuleNotFoundError\u001b[0m                       Traceback (most recent call last)",
      "Cell \u001b[0;32mIn[1], line 8\u001b[0m\n\u001b[1;32m      4\u001b[0m \u001b[39mfrom\u001b[39;00m \u001b[39msklearn\u001b[39;00m\u001b[39m.\u001b[39;00m\u001b[39mpreprocessing\u001b[39;00m \u001b[39mimport\u001b[39;00m MinMaxScaler\n\u001b[1;32m      6\u001b[0m \u001b[39mimport\u001b[39;00m \u001b[39mforecast_tools\u001b[39;00m \u001b[39mas\u001b[39;00m \u001b[39mft\u001b[39;00m\n\u001b[0;32m----> 8\u001b[0m \u001b[39mimport\u001b[39;00m \u001b[39mtensorflow\u001b[39;00m\u001b[39m.\u001b[39;00m\u001b[39mrandom\u001b[39;00m\u001b[39m.\u001b[39;00m\u001b[39mset_seed\u001b[39;00m \u001b[39mas\u001b[39;00m \u001b[39mtf_set_seed\u001b[39;00m\n\u001b[1;32m      9\u001b[0m \u001b[39mfrom\u001b[39;00m \u001b[39mtensorflow\u001b[39;00m\u001b[39m.\u001b[39;00m\u001b[39mkeras\u001b[39;00m\u001b[39m.\u001b[39;00m\u001b[39mmodels\u001b[39;00m \u001b[39mimport\u001b[39;00m Sequential\n\u001b[1;32m     10\u001b[0m \u001b[39mfrom\u001b[39;00m \u001b[39mtensorflow\u001b[39;00m\u001b[39m.\u001b[39;00m\u001b[39mkeras\u001b[39;00m\u001b[39m.\u001b[39;00m\u001b[39mlayers\u001b[39;00m \u001b[39mimport\u001b[39;00m Dense, GRU, LSTM, Dropout\n",
      "\u001b[0;31mModuleNotFoundError\u001b[0m: No module named 'tensorflow.random.set_seed'"
     ]
    }
   ],
   "source": [
    "from datetime import datetime\n",
    "import numpy as np\n",
    "import pandas as pd\n",
    "from sklearn.preprocessing import MinMaxScaler\n",
    "\n",
    "import forecast_tools as ft\n",
    "\n",
    "import tensorflow.random.set_seed as tf_set_seed\n",
    "from tensorflow.keras.models import Sequential\n",
    "from tensorflow.keras.layers import Dense, GRU, LSTM, Dropout\n",
    "from tensorflow.keras.callbacks import  EarlyStopping, ModelCheckpoint\n",
    "\n",
    "import emd\n",
    "\n",
    "pd.options.plotting.backend = \"plotly\"\n",
    "pd.set_option('precision', 2)"
   ]
  },
  {
   "attachments": {},
   "cell_type": "markdown",
   "metadata": {},
   "source": [
    "# funcs"
   ]
  },
  {
   "cell_type": "code",
   "execution_count": 38,
   "metadata": {},
   "outputs": [],
   "source": [
    "def get_dat(site,filename=None,features='all',emd=True,rename=False,start=None,end=None):\n",
    "\n",
    "  if site == 'deere':\n",
    "    df = pd.read_csv(  '/content/drive/MyDrive/Data/deere_load.csv',   \n",
    "                          comment='#',\n",
    "                          parse_dates=['Datetime (UTC-6)'],\n",
    "                          index_col=['Datetime (UTC-6)'] )\n",
    "\n",
    "  elif site == 'deere-supercleaned':\n",
    "    df = pd.read_csv(  '/content/drive/MyDrive/Data/deere_load_supercleaned.csv',   \n",
    "                          comment='#',\n",
    "                          parse_dates=['Datetime (UTC-6)'],\n",
    "                          index_col=['Datetime (UTC-6)'] )\n",
    "\n",
    "  elif site == 'hyatt':\n",
    "    df = pd.read_csv(  '/content/drive/MyDrive/Data/hyatt_load_IMFs.csv',   \n",
    "                          comment='#',\n",
    "                          parse_dates=['Datetime (UTC-10)'],\n",
    "                          index_col=['Datetime (UTC-10)'] )       \n",
    "    \n",
    "  elif site == 'lajolla':\n",
    "    df = pd.read_csv(  '/content/drive/MyDrive/Data/lajolla_load_IMFs.csv',   \n",
    "                          comment='#',\n",
    "                          parse_dates=['Datetime (UTC-8)'],\n",
    "                          index_col=['Datetime (UTC-8)'] )  \n",
    "\n",
    "  # elif site == 'nwe':\n",
    "  #   df = pd.read_csv(   '/content/drive/MyDrive/Data/NWE/ca_actual.csv',   \n",
    "  #                       comment='#',                 \n",
    "  #                       parse_dates=['Date'],\n",
    "  #                       index_col=['Date'])\n",
    "  #   df = convert_nwe_data_to_vector(df)\n",
    "\n",
    "  elif site == 'terna':\n",
    "    file_path = '/content/drive/MyDrive/Data/terna_load_kw.csv'\n",
    "    dfm = pd.read_csv(  file_path,\n",
    "                        comment='#',\n",
    "                        index_col=0)\n",
    "\n",
    "    idx = pd.date_range(  start   = '2006-1-1 0:00',\n",
    "                          end     = '2015-12-31 23:00',\n",
    "                          freq    = 'H')\n",
    "\n",
    "    df = pd.DataFrame(index=idx, data=np.empty(len(idx)), columns=['Load (kW)'])\n",
    "\n",
    "    begin, end = 0, 24\n",
    "    for i in range(dfm.shape[0]):\n",
    "      dat = dfm.iloc[i].values\n",
    "      df['Load (kW)'].iloc[begin:end] = dat\n",
    "      begin, end = begin+24, end+24\n",
    "\n",
    "    # 2006-03-26 02:00:00   NaN\n",
    "    # 2007-03-25 02:00:00   NaN\n",
    "    # 2008-03-30 02:00:00   NaN\n",
    "    # 2009-03-29 02:00:00   NaN\n",
    "    # 2010-03-28 02:00:00   NaN\n",
    "    # 2011-03-27 02:00:00   NaN\n",
    "    # 2012-03-25 02:00:00   NaN\n",
    "    # 2013-03-31 02:00:00   NaN\n",
    "    # 2014-03-30 02:00:00   NaN\n",
    "    # 2015-03-29 02:00:00   NaN\n",
    "    df = df.fillna(method='ffill')\n",
    "    df['Load (kW)'][df['Load (kW)'].isna()]\n",
    "    \n",
    "  else:\n",
    "    df = pd.read_csv(filename,\n",
    "                     comment='#',\n",
    "                     index_col=0,\n",
    "                     parse_dates=True)\n",
    "    \n",
    "  if rename:\n",
    "    df = df.rename(columns={df.columns[0]:'Load (kW)'})\n",
    "\n",
    "  if df.columns[0] != 'Load (kW)':\n",
    "    input('/// Warning pass rename=True to rename (enter to ack): ')\n",
    "    #df = df.rename(columns={df.columns[0]:'Load (kW)'})\n",
    "    \n",
    "  if emd:\n",
    "    df = emd_sift(df)\n",
    "    \n",
    "  if start and end:\n",
    "    df = df.loc[start:end,:]\n",
    "                                    \n",
    "  # df['Day'] = df.index.dayofyear\n",
    "  # df['Hour'] = df.index.hour\n",
    "  # df['Weekday'] = df.index.dayofweek\n",
    "  \n",
    "  df['Day'] = np.abs(df.index.dayofyear - 182)\n",
    "  df['Hour'] = np.abs(np.abs(df.index.hour-12)-12)\n",
    "  df['Weekday'] = np.abs(df.index.dayofweek - 3)\n",
    "  \n",
    "  dppd = {'H':24,'15T':96,'T':1440}[df.index.inferred_freq]\n",
    "    \n",
    "  d = df['Load (kW)'].values.flatten()\n",
    "  rmse_np1d = rmse(d[(dppd*1):],d[:-(dppd*1)])\n",
    "  rmse_np7d = rmse(d[(dppd*7):],d[:-(dppd*7)])\n",
    "\n",
    "  if rmse_np1d < rmse_np7d:\n",
    "    np_days = 1\n",
    "  else:\n",
    "    np_days = 7\n",
    "  \n",
    "  if features=='all':\n",
    "    return df, dppd, np_days\n",
    "  else:\n",
    "    return df[features], dppd, np_days\n",
    "  \n",
    "def one_hot_of_peaks(ds,freq='D'):\n",
    "    df = pd.DataFrame(ds)\n",
    "    df['peak'] = 0\n",
    "    df.loc[df.groupby(pd.Grouper(freq=freq)).idxmax().iloc[:,0], 'peak'] = 1  \n",
    "    return df['peak']     \n",
    "\n",
    "def accuracy_one_hot(true,pred):\n",
    "    \"\"\" Measure the accuracy of two one hot vectors, inputs can be 1d numpy or dataseries\"\"\"\n",
    "    n_misses = sum(true != pred)/2     # every miss gives two 'False' entries\n",
    "    return 1 - n_misses/sum(true)   # basis is the number of one-hots\n",
    "\n",
    "\n",
    "def batch_generator(batch_size, sequence_length, num_x_signals, num_y_signals,\n",
    "                    num_train, x_train_scaled, y_train_scaled):\n",
    "    \"\"\"\n",
    "    Generator function for creating random batches of training-data.\n",
    "    \"\"\"    \n",
    "    # Infinite loop.\n",
    "    while True:\n",
    "        # Allocate a new array for the batch of input-signals.\n",
    "        x_shape = (batch_size, sequence_length, num_x_signals)\n",
    "        x_batch = np.zeros(shape=x_shape, dtype=np.float16)\n",
    "\n",
    "        # Allocate a new array for the batch of output-signals.\n",
    "        y_shape = (batch_size, sequence_length, num_y_signals)\n",
    "        y_batch = np.zeros(shape=y_shape, dtype=np.float16)\n",
    "\n",
    "        # Fill the batch with random sequences of data.\n",
    "        for i in range(batch_size):\n",
    "            # Get a random start-index.\n",
    "            # This points somewhere into the training-data.\n",
    "            idx = np.random.randint(num_train - sequence_length)\n",
    "            \n",
    "            # Copy the sequences of data starting at this index.\n",
    "            x_batch[i] = x_train_scaled[idx:idx+sequence_length]\n",
    "            y_batch[i] = y_train_scaled[idx:idx+sequence_length]\n",
    "        \n",
    "        yield (x_batch, y_batch)     \n",
    "        \n",
    "def rmse(y_true, y_pred):\n",
    "  return np.sqrt(np.mean(np.square(y_true - y_pred)))\n",
    "\n",
    "def emd_sift(df):\n",
    "  imf = emd.sift.sift(df['Load (kW)'].values)\n",
    "\n",
    "  for i in range(imf.shape[1]):\n",
    "      df['IMF%s'%(i+1)] = imf[:,i]  \n",
    "\n",
    "  return df           "
   ]
  },
  {
   "attachments": {},
   "cell_type": "markdown",
   "metadata": {},
   "source": [
    "# gru peak"
   ]
  },
  {
   "cell_type": "code",
   "execution_count": 44,
   "metadata": {},
   "outputs": [
    {
     "name": "stdout",
     "output_type": "stream",
     "text": [
      "Model: \"sequential_4\"\n",
      "_________________________________________________________________\n",
      " Layer (type)                Output Shape              Param #   \n",
      "=================================================================\n",
      " gru_9 (GRU)                 (None, None, 24)          2736      \n",
      "                                                                 \n",
      " gru_10 (GRU)                (None, None, 24)          3600      \n",
      "                                                                 \n",
      " dense_4 (Dense)             (None, None, 1)           25        \n",
      "                                                                 \n",
      "=================================================================\n",
      "Total params: 6,361\n",
      "Trainable params: 6,361\n",
      "Non-trainable params: 0\n",
      "_________________________________________________________________\n",
      "Epoch 1/100\n",
      "100/100 [==============================] - 3s 16ms/step - loss: 0.3143 - accuracy: 0.0417 - val_loss: 0.1970 - val_accuracy: 0.0417\n",
      "Epoch 2/100\n",
      "100/100 [==============================] - 1s 14ms/step - loss: 0.1848 - accuracy: 0.0425 - val_loss: 0.1861 - val_accuracy: 0.0417\n",
      "Epoch 3/100\n",
      "100/100 [==============================] - 1s 14ms/step - loss: 0.1732 - accuracy: 0.0429 - val_loss: 0.1690 - val_accuracy: 0.0417\n",
      "Epoch 4/100\n",
      "100/100 [==============================] - 1s 13ms/step - loss: 0.1632 - accuracy: 0.0433 - val_loss: 0.1572 - val_accuracy: 0.0417\n",
      "Epoch 5/100\n",
      "100/100 [==============================] - 1s 13ms/step - loss: 0.1529 - accuracy: 0.0421 - val_loss: 0.1791 - val_accuracy: 0.0417\n",
      "Epoch 6/100\n",
      "100/100 [==============================] - 1s 13ms/step - loss: 0.1493 - accuracy: 0.0404 - val_loss: 0.1522 - val_accuracy: 0.0417\n",
      "Epoch 7/100\n",
      "100/100 [==============================] - 1s 13ms/step - loss: 0.1432 - accuracy: 0.0404 - val_loss: 0.1550 - val_accuracy: 0.0417\n",
      "Epoch 8/100\n",
      "100/100 [==============================] - 1s 13ms/step - loss: 0.1379 - accuracy: 0.0404 - val_loss: 0.1591 - val_accuracy: 0.0417\n",
      "Epoch 9/100\n",
      "100/100 [==============================] - 1s 13ms/step - loss: 0.1524 - accuracy: 0.0433 - val_loss: 0.1398 - val_accuracy: 0.0417\n",
      "Epoch 10/100\n",
      "100/100 [==============================] - 1s 13ms/step - loss: 0.1425 - accuracy: 0.0400 - val_loss: 0.1414 - val_accuracy: 0.0417\n",
      "Epoch 11/100\n",
      "100/100 [==============================] - 1s 13ms/step - loss: 0.1376 - accuracy: 0.0429 - val_loss: 0.1464 - val_accuracy: 0.0417\n",
      "Epoch 12/100\n",
      "100/100 [==============================] - 1s 13ms/step - loss: 0.1259 - accuracy: 0.0392 - val_loss: 0.1444 - val_accuracy: 0.0417\n",
      "Epoch 13/100\n",
      "100/100 [==============================] - 1s 14ms/step - loss: 0.1297 - accuracy: 0.0429 - val_loss: 0.1496 - val_accuracy: 0.0417\n",
      "Epoch 14/100\n",
      "100/100 [==============================] - 1s 13ms/step - loss: 0.1384 - accuracy: 0.0433 - val_loss: 0.1472 - val_accuracy: 0.0417\n",
      "Epoch 15/100\n",
      "100/100 [==============================] - 1s 13ms/step - loss: 0.1322 - accuracy: 0.0429 - val_loss: 0.1519 - val_accuracy: 0.0417\n",
      "Epoch 16/100\n",
      "100/100 [==============================] - 1s 14ms/step - loss: 0.1273 - accuracy: 0.0429 - val_loss: 0.1565 - val_accuracy: 0.0417\n",
      "Epoch 17/100\n",
      "100/100 [==============================] - 1s 13ms/step - loss: 0.1223 - accuracy: 0.0429 - val_loss: 0.1506 - val_accuracy: 0.0417\n",
      "Epoch 18/100\n",
      "100/100 [==============================] - 1s 15ms/step - loss: 0.1110 - accuracy: 0.0425 - val_loss: 0.1646 - val_accuracy: 0.0417\n",
      "Epoch 19/100\n",
      "100/100 [==============================] - 2s 16ms/step - loss: 0.1038 - accuracy: 0.0408 - val_loss: 0.1755 - val_accuracy: 0.0417\n",
      "Epoch 20/100\n",
      "100/100 [==============================] - 2s 18ms/step - loss: 0.1114 - accuracy: 0.0425 - val_loss: 0.1717 - val_accuracy: 0.0417\n",
      "Epoch 21/100\n",
      "100/100 [==============================] - 2s 22ms/step - loss: 0.1195 - accuracy: 0.0425 - val_loss: 0.1620 - val_accuracy: 0.0417\n",
      "Epoch 22/100\n",
      "100/100 [==============================] - 2s 17ms/step - loss: 0.1126 - accuracy: 0.0421 - val_loss: 0.1803 - val_accuracy: 0.0417\n",
      "Epoch 23/100\n",
      "100/100 [==============================] - 2s 15ms/step - loss: 0.0945 - accuracy: 0.0392 - val_loss: 0.1738 - val_accuracy: 0.0417\n",
      "Epoch 24/100\n",
      "100/100 [==============================] - 1s 15ms/step - loss: 0.0978 - accuracy: 0.0404 - val_loss: 0.1717 - val_accuracy: 0.0417\n",
      "Epoch 25/100\n",
      "100/100 [==============================] - 1s 13ms/step - loss: 0.1104 - accuracy: 0.0429 - val_loss: 0.1720 - val_accuracy: 0.0417\n",
      "Epoch 26/100\n",
      "100/100 [==============================] - 1s 15ms/step - loss: 0.1051 - accuracy: 0.0425 - val_loss: 0.1675 - val_accuracy: 0.0417\n",
      "Epoch 27/100\n",
      "100/100 [==============================] - 1s 14ms/step - loss: 0.1132 - accuracy: 0.0429 - val_loss: 0.1668 - val_accuracy: 0.0417\n",
      "Epoch 28/100\n",
      "100/100 [==============================] - 1s 14ms/step - loss: 0.0946 - accuracy: 0.0413 - val_loss: 0.2119 - val_accuracy: 0.0417\n",
      "Epoch 29/100\n",
      "100/100 [==============================] - 1s 14ms/step - loss: 0.1112 - accuracy: 0.0417 - val_loss: 0.1879 - val_accuracy: 0.0417\n",
      "Epoch 30/100\n",
      "100/100 [==============================] - 1s 14ms/step - loss: 0.0925 - accuracy: 0.0404 - val_loss: 0.2046 - val_accuracy: 0.0417\n",
      "Epoch 31/100\n",
      "100/100 [==============================] - 1s 14ms/step - loss: 0.1061 - accuracy: 0.0400 - val_loss: 0.1892 - val_accuracy: 0.0417\n",
      "Epoch 32/100\n",
      "100/100 [==============================] - 1s 14ms/step - loss: 0.0864 - accuracy: 0.0396 - val_loss: 0.2049 - val_accuracy: 0.0417\n",
      "Epoch 33/100\n",
      "100/100 [==============================] - 1s 14ms/step - loss: 0.0972 - accuracy: 0.0425 - val_loss: 0.1957 - val_accuracy: 0.0417\n",
      "Epoch 34/100\n",
      "100/100 [==============================] - 1s 14ms/step - loss: 0.0995 - accuracy: 0.0433 - val_loss: 0.1909 - val_accuracy: 0.0417\n",
      "Epoch 35/100\n",
      "100/100 [==============================] - 1s 14ms/step - loss: 0.0887 - accuracy: 0.0408 - val_loss: 0.1945 - val_accuracy: 0.0417\n",
      "Epoch 36/100\n",
      "100/100 [==============================] - 1s 14ms/step - loss: 0.0924 - accuracy: 0.0429 - val_loss: 0.2033 - val_accuracy: 0.0417\n",
      "Epoch 37/100\n",
      "100/100 [==============================] - 1s 13ms/step - loss: 0.0999 - accuracy: 0.0413 - val_loss: 0.1832 - val_accuracy: 0.0417\n",
      "Epoch 38/100\n",
      "100/100 [==============================] - 1s 14ms/step - loss: 0.0862 - accuracy: 0.0404 - val_loss: 0.1896 - val_accuracy: 0.0417\n",
      "Epoch 39/100\n",
      "100/100 [==============================] - 1s 13ms/step - loss: 0.1063 - accuracy: 0.0425 - val_loss: 0.1925 - val_accuracy: 0.0417\n",
      "1/1 [==============================] - 0s 90ms/step - loss: 0.1398 - accuracy: 0.0417\n",
      "\n",
      "/// Best Model Loss (valid)\n",
      " 0.13982093334197998\n",
      "1/1 [==============================] - 0s 277ms/step\n",
      "\n",
      "/// Accuracy\n",
      " 0.0\n"
     ]
    },
    {
     "name": "stderr",
     "output_type": "stream",
     "text": [
      "/home/mjw/miniconda3/envs/tf-scip2/lib/python3.8/site-packages/pandas/core/indexing.py:1596: SettingWithCopyWarning:\n",
      "\n",
      "\n",
      "A value is trying to be set on a copy of a slice from a DataFrame.\n",
      "Try using .loc[row_indexer,col_indexer] = value instead\n",
      "\n",
      "See the caveats in the documentation: https://pandas.pydata.org/pandas-docs/stable/user_guide/indexing.html#returning-a-view-versus-a-copy\n",
      "\n",
      "/home/mjw/miniconda3/envs/tf-scip2/lib/python3.8/site-packages/pandas/core/indexing.py:1743: SettingWithCopyWarning:\n",
      "\n",
      "\n",
      "A value is trying to be set on a copy of a slice from a DataFrame.\n",
      "Try using .loc[row_indexer,col_indexer] = value instead\n",
      "\n",
      "See the caveats in the documentation: https://pandas.pydata.org/pandas-docs/stable/user_guide/indexing.html#returning-a-view-versus-a-copy\n",
      "\n"
     ]
    },
    {
     "data": {
      "application/vnd.plotly.v1+json": {
       "config": {
        "plotlyServerURL": "https://plot.ly"
       },
       "data": [
        {
         "hovertemplate": "variable=loss<br>index=%{x}<br>value=%{y}<extra></extra>",
         "legendgroup": "loss",
         "line": {
          "color": "#636efa",
          "dash": "solid"
         },
         "marker": {
          "symbol": "circle"
         },
         "mode": "lines",
         "name": "loss",
         "orientation": "v",
         "showlegend": true,
         "type": "scatter",
         "x": [
          0,
          1,
          2,
          3,
          4,
          5,
          6,
          7,
          8,
          9,
          10,
          11,
          12,
          13,
          14,
          15,
          16,
          17,
          18,
          19,
          20,
          21,
          22,
          23,
          24,
          25,
          26,
          27,
          28,
          29,
          30,
          31,
          32,
          33,
          34,
          35,
          36,
          37,
          38
         ],
         "xaxis": "x",
         "y": [
          0.3143083453178406,
          0.18478718400001526,
          0.17315992712974548,
          0.16318021714687347,
          0.15294063091278076,
          0.14930376410484314,
          0.14319175481796265,
          0.13786689937114716,
          0.15237212181091309,
          0.14254842698574066,
          0.13756699860095978,
          0.12594318389892578,
          0.12965792417526245,
          0.13844896852970123,
          0.13223737478256226,
          0.12728525698184967,
          0.12234516441822052,
          0.11103007197380066,
          0.10377456992864609,
          0.1114187017083168,
          0.11949457228183746,
          0.11262131482362747,
          0.09450884908437729,
          0.0977567657828331,
          0.11044914275407791,
          0.10512686520814896,
          0.11324839293956757,
          0.09460814297199249,
          0.11117304116487503,
          0.09253600984811783,
          0.10609430074691772,
          0.08642670512199402,
          0.09718376398086548,
          0.09951570630073547,
          0.08867087215185165,
          0.09241410344839096,
          0.0999179482460022,
          0.08620205521583557,
          0.10631167143583298
         ],
         "yaxis": "y"
        },
        {
         "hovertemplate": "variable=accuracy<br>index=%{x}<br>value=%{y}<extra></extra>",
         "legendgroup": "accuracy",
         "line": {
          "color": "#EF553B",
          "dash": "solid"
         },
         "marker": {
          "symbol": "circle"
         },
         "mode": "lines",
         "name": "accuracy",
         "orientation": "v",
         "showlegend": true,
         "type": "scatter",
         "x": [
          0,
          1,
          2,
          3,
          4,
          5,
          6,
          7,
          8,
          9,
          10,
          11,
          12,
          13,
          14,
          15,
          16,
          17,
          18,
          19,
          20,
          21,
          22,
          23,
          24,
          25,
          26,
          27,
          28,
          29,
          30,
          31,
          32,
          33,
          34,
          35,
          36,
          37,
          38
         ],
         "xaxis": "x",
         "y": [
          0.0416666679084301,
          0.042500000447034836,
          0.042916666716337204,
          0.04333333298563957,
          0.04208333417773247,
          0.0404166653752327,
          0.0404166653752327,
          0.0404166653752327,
          0.04333333298563957,
          0.03999999910593033,
          0.042916666716337204,
          0.03916666656732559,
          0.042916666716337204,
          0.04333333298563957,
          0.042916666716337204,
          0.042916666716337204,
          0.042916666716337204,
          0.042500000447034836,
          0.040833331644535065,
          0.042500000447034836,
          0.042500000447034836,
          0.04208333417773247,
          0.03916666656732559,
          0.0404166653752327,
          0.042916666716337204,
          0.042500000447034836,
          0.042916666716337204,
          0.04125000163912773,
          0.0416666679084301,
          0.0404166653752327,
          0.03999999910593033,
          0.03958333283662796,
          0.042500000447034836,
          0.04333333298563957,
          0.040833331644535065,
          0.042916666716337204,
          0.04125000163912773,
          0.0404166653752327,
          0.042500000447034836
         ],
         "yaxis": "y"
        },
        {
         "hovertemplate": "variable=val_loss<br>index=%{x}<br>value=%{y}<extra></extra>",
         "legendgroup": "val_loss",
         "line": {
          "color": "#00cc96",
          "dash": "solid"
         },
         "marker": {
          "symbol": "circle"
         },
         "mode": "lines",
         "name": "val_loss",
         "orientation": "v",
         "showlegend": true,
         "type": "scatter",
         "x": [
          0,
          1,
          2,
          3,
          4,
          5,
          6,
          7,
          8,
          9,
          10,
          11,
          12,
          13,
          14,
          15,
          16,
          17,
          18,
          19,
          20,
          21,
          22,
          23,
          24,
          25,
          26,
          27,
          28,
          29,
          30,
          31,
          32,
          33,
          34,
          35,
          36,
          37,
          38
         ],
         "xaxis": "x",
         "y": [
          0.1969885528087616,
          0.18610641360282898,
          0.1690199375152588,
          0.15722046792507172,
          0.17913205921649933,
          0.15219315886497498,
          0.1549873799085617,
          0.15913057327270508,
          0.13982093334197998,
          0.1413949877023697,
          0.14643900096416473,
          0.1443987488746643,
          0.1496025174856186,
          0.14717882871627808,
          0.1519128382205963,
          0.15645930171012878,
          0.15057013928890228,
          0.1646278351545334,
          0.17549657821655273,
          0.17174597084522247,
          0.1620274931192398,
          0.1803191602230072,
          0.17380765080451965,
          0.1717250943183899,
          0.17203782498836517,
          0.16745194792747498,
          0.166784405708313,
          0.21188151836395264,
          0.1879008263349533,
          0.20463161170482635,
          0.1891792118549347,
          0.20490887761116028,
          0.19566784799098969,
          0.19087213277816772,
          0.19452053308486938,
          0.2033497542142868,
          0.1832011491060257,
          0.18956208229064941,
          0.1925281435251236
         ],
         "yaxis": "y"
        },
        {
         "hovertemplate": "variable=val_accuracy<br>index=%{x}<br>value=%{y}<extra></extra>",
         "legendgroup": "val_accuracy",
         "line": {
          "color": "#ab63fa",
          "dash": "solid"
         },
         "marker": {
          "symbol": "circle"
         },
         "mode": "lines",
         "name": "val_accuracy",
         "orientation": "v",
         "showlegend": true,
         "type": "scatter",
         "x": [
          0,
          1,
          2,
          3,
          4,
          5,
          6,
          7,
          8,
          9,
          10,
          11,
          12,
          13,
          14,
          15,
          16,
          17,
          18,
          19,
          20,
          21,
          22,
          23,
          24,
          25,
          26,
          27,
          28,
          29,
          30,
          31,
          32,
          33,
          34,
          35,
          36,
          37,
          38
         ],
         "xaxis": "x",
         "y": [
          0.041747573763132095,
          0.041747573763132095,
          0.041747573763132095,
          0.041747573763132095,
          0.041747573763132095,
          0.041747573763132095,
          0.041747573763132095,
          0.041747573763132095,
          0.041747573763132095,
          0.041747573763132095,
          0.041747573763132095,
          0.041747573763132095,
          0.041747573763132095,
          0.041747573763132095,
          0.041747573763132095,
          0.041747573763132095,
          0.041747573763132095,
          0.041747573763132095,
          0.041747573763132095,
          0.041747573763132095,
          0.041747573763132095,
          0.041747573763132095,
          0.041747573763132095,
          0.041747573763132095,
          0.041747573763132095,
          0.041747573763132095,
          0.041747573763132095,
          0.041747573763132095,
          0.041747573763132095,
          0.041747573763132095,
          0.041747573763132095,
          0.041747573763132095,
          0.041747573763132095,
          0.041747573763132095,
          0.041747573763132095,
          0.041747573763132095,
          0.041747573763132095,
          0.041747573763132095,
          0.041747573763132095
         ],
         "yaxis": "y"
        }
       ],
       "layout": {
        "legend": {
         "title": {
          "text": "variable"
         },
         "tracegroupgap": 0
        },
        "template": {
         "data": {
          "bar": [
           {
            "error_x": {
             "color": "#2a3f5f"
            },
            "error_y": {
             "color": "#2a3f5f"
            },
            "marker": {
             "line": {
              "color": "#E5ECF6",
              "width": 0.5
             },
             "pattern": {
              "fillmode": "overlay",
              "size": 10,
              "solidity": 0.2
             }
            },
            "type": "bar"
           }
          ],
          "barpolar": [
           {
            "marker": {
             "line": {
              "color": "#E5ECF6",
              "width": 0.5
             },
             "pattern": {
              "fillmode": "overlay",
              "size": 10,
              "solidity": 0.2
             }
            },
            "type": "barpolar"
           }
          ],
          "carpet": [
           {
            "aaxis": {
             "endlinecolor": "#2a3f5f",
             "gridcolor": "white",
             "linecolor": "white",
             "minorgridcolor": "white",
             "startlinecolor": "#2a3f5f"
            },
            "baxis": {
             "endlinecolor": "#2a3f5f",
             "gridcolor": "white",
             "linecolor": "white",
             "minorgridcolor": "white",
             "startlinecolor": "#2a3f5f"
            },
            "type": "carpet"
           }
          ],
          "choropleth": [
           {
            "colorbar": {
             "outlinewidth": 0,
             "ticks": ""
            },
            "type": "choropleth"
           }
          ],
          "contour": [
           {
            "colorbar": {
             "outlinewidth": 0,
             "ticks": ""
            },
            "colorscale": [
             [
              0,
              "#0d0887"
             ],
             [
              0.1111111111111111,
              "#46039f"
             ],
             [
              0.2222222222222222,
              "#7201a8"
             ],
             [
              0.3333333333333333,
              "#9c179e"
             ],
             [
              0.4444444444444444,
              "#bd3786"
             ],
             [
              0.5555555555555556,
              "#d8576b"
             ],
             [
              0.6666666666666666,
              "#ed7953"
             ],
             [
              0.7777777777777778,
              "#fb9f3a"
             ],
             [
              0.8888888888888888,
              "#fdca26"
             ],
             [
              1,
              "#f0f921"
             ]
            ],
            "type": "contour"
           }
          ],
          "contourcarpet": [
           {
            "colorbar": {
             "outlinewidth": 0,
             "ticks": ""
            },
            "type": "contourcarpet"
           }
          ],
          "heatmap": [
           {
            "colorbar": {
             "outlinewidth": 0,
             "ticks": ""
            },
            "colorscale": [
             [
              0,
              "#0d0887"
             ],
             [
              0.1111111111111111,
              "#46039f"
             ],
             [
              0.2222222222222222,
              "#7201a8"
             ],
             [
              0.3333333333333333,
              "#9c179e"
             ],
             [
              0.4444444444444444,
              "#bd3786"
             ],
             [
              0.5555555555555556,
              "#d8576b"
             ],
             [
              0.6666666666666666,
              "#ed7953"
             ],
             [
              0.7777777777777778,
              "#fb9f3a"
             ],
             [
              0.8888888888888888,
              "#fdca26"
             ],
             [
              1,
              "#f0f921"
             ]
            ],
            "type": "heatmap"
           }
          ],
          "heatmapgl": [
           {
            "colorbar": {
             "outlinewidth": 0,
             "ticks": ""
            },
            "colorscale": [
             [
              0,
              "#0d0887"
             ],
             [
              0.1111111111111111,
              "#46039f"
             ],
             [
              0.2222222222222222,
              "#7201a8"
             ],
             [
              0.3333333333333333,
              "#9c179e"
             ],
             [
              0.4444444444444444,
              "#bd3786"
             ],
             [
              0.5555555555555556,
              "#d8576b"
             ],
             [
              0.6666666666666666,
              "#ed7953"
             ],
             [
              0.7777777777777778,
              "#fb9f3a"
             ],
             [
              0.8888888888888888,
              "#fdca26"
             ],
             [
              1,
              "#f0f921"
             ]
            ],
            "type": "heatmapgl"
           }
          ],
          "histogram": [
           {
            "marker": {
             "pattern": {
              "fillmode": "overlay",
              "size": 10,
              "solidity": 0.2
             }
            },
            "type": "histogram"
           }
          ],
          "histogram2d": [
           {
            "colorbar": {
             "outlinewidth": 0,
             "ticks": ""
            },
            "colorscale": [
             [
              0,
              "#0d0887"
             ],
             [
              0.1111111111111111,
              "#46039f"
             ],
             [
              0.2222222222222222,
              "#7201a8"
             ],
             [
              0.3333333333333333,
              "#9c179e"
             ],
             [
              0.4444444444444444,
              "#bd3786"
             ],
             [
              0.5555555555555556,
              "#d8576b"
             ],
             [
              0.6666666666666666,
              "#ed7953"
             ],
             [
              0.7777777777777778,
              "#fb9f3a"
             ],
             [
              0.8888888888888888,
              "#fdca26"
             ],
             [
              1,
              "#f0f921"
             ]
            ],
            "type": "histogram2d"
           }
          ],
          "histogram2dcontour": [
           {
            "colorbar": {
             "outlinewidth": 0,
             "ticks": ""
            },
            "colorscale": [
             [
              0,
              "#0d0887"
             ],
             [
              0.1111111111111111,
              "#46039f"
             ],
             [
              0.2222222222222222,
              "#7201a8"
             ],
             [
              0.3333333333333333,
              "#9c179e"
             ],
             [
              0.4444444444444444,
              "#bd3786"
             ],
             [
              0.5555555555555556,
              "#d8576b"
             ],
             [
              0.6666666666666666,
              "#ed7953"
             ],
             [
              0.7777777777777778,
              "#fb9f3a"
             ],
             [
              0.8888888888888888,
              "#fdca26"
             ],
             [
              1,
              "#f0f921"
             ]
            ],
            "type": "histogram2dcontour"
           }
          ],
          "mesh3d": [
           {
            "colorbar": {
             "outlinewidth": 0,
             "ticks": ""
            },
            "type": "mesh3d"
           }
          ],
          "parcoords": [
           {
            "line": {
             "colorbar": {
              "outlinewidth": 0,
              "ticks": ""
             }
            },
            "type": "parcoords"
           }
          ],
          "pie": [
           {
            "automargin": true,
            "type": "pie"
           }
          ],
          "scatter": [
           {
            "fillpattern": {
             "fillmode": "overlay",
             "size": 10,
             "solidity": 0.2
            },
            "type": "scatter"
           }
          ],
          "scatter3d": [
           {
            "line": {
             "colorbar": {
              "outlinewidth": 0,
              "ticks": ""
             }
            },
            "marker": {
             "colorbar": {
              "outlinewidth": 0,
              "ticks": ""
             }
            },
            "type": "scatter3d"
           }
          ],
          "scattercarpet": [
           {
            "marker": {
             "colorbar": {
              "outlinewidth": 0,
              "ticks": ""
             }
            },
            "type": "scattercarpet"
           }
          ],
          "scattergeo": [
           {
            "marker": {
             "colorbar": {
              "outlinewidth": 0,
              "ticks": ""
             }
            },
            "type": "scattergeo"
           }
          ],
          "scattergl": [
           {
            "marker": {
             "colorbar": {
              "outlinewidth": 0,
              "ticks": ""
             }
            },
            "type": "scattergl"
           }
          ],
          "scattermapbox": [
           {
            "marker": {
             "colorbar": {
              "outlinewidth": 0,
              "ticks": ""
             }
            },
            "type": "scattermapbox"
           }
          ],
          "scatterpolar": [
           {
            "marker": {
             "colorbar": {
              "outlinewidth": 0,
              "ticks": ""
             }
            },
            "type": "scatterpolar"
           }
          ],
          "scatterpolargl": [
           {
            "marker": {
             "colorbar": {
              "outlinewidth": 0,
              "ticks": ""
             }
            },
            "type": "scatterpolargl"
           }
          ],
          "scatterternary": [
           {
            "marker": {
             "colorbar": {
              "outlinewidth": 0,
              "ticks": ""
             }
            },
            "type": "scatterternary"
           }
          ],
          "surface": [
           {
            "colorbar": {
             "outlinewidth": 0,
             "ticks": ""
            },
            "colorscale": [
             [
              0,
              "#0d0887"
             ],
             [
              0.1111111111111111,
              "#46039f"
             ],
             [
              0.2222222222222222,
              "#7201a8"
             ],
             [
              0.3333333333333333,
              "#9c179e"
             ],
             [
              0.4444444444444444,
              "#bd3786"
             ],
             [
              0.5555555555555556,
              "#d8576b"
             ],
             [
              0.6666666666666666,
              "#ed7953"
             ],
             [
              0.7777777777777778,
              "#fb9f3a"
             ],
             [
              0.8888888888888888,
              "#fdca26"
             ],
             [
              1,
              "#f0f921"
             ]
            ],
            "type": "surface"
           }
          ],
          "table": [
           {
            "cells": {
             "fill": {
              "color": "#EBF0F8"
             },
             "line": {
              "color": "white"
             }
            },
            "header": {
             "fill": {
              "color": "#C8D4E3"
             },
             "line": {
              "color": "white"
             }
            },
            "type": "table"
           }
          ]
         },
         "layout": {
          "annotationdefaults": {
           "arrowcolor": "#2a3f5f",
           "arrowhead": 0,
           "arrowwidth": 1
          },
          "autotypenumbers": "strict",
          "coloraxis": {
           "colorbar": {
            "outlinewidth": 0,
            "ticks": ""
           }
          },
          "colorscale": {
           "diverging": [
            [
             0,
             "#8e0152"
            ],
            [
             0.1,
             "#c51b7d"
            ],
            [
             0.2,
             "#de77ae"
            ],
            [
             0.3,
             "#f1b6da"
            ],
            [
             0.4,
             "#fde0ef"
            ],
            [
             0.5,
             "#f7f7f7"
            ],
            [
             0.6,
             "#e6f5d0"
            ],
            [
             0.7,
             "#b8e186"
            ],
            [
             0.8,
             "#7fbc41"
            ],
            [
             0.9,
             "#4d9221"
            ],
            [
             1,
             "#276419"
            ]
           ],
           "sequential": [
            [
             0,
             "#0d0887"
            ],
            [
             0.1111111111111111,
             "#46039f"
            ],
            [
             0.2222222222222222,
             "#7201a8"
            ],
            [
             0.3333333333333333,
             "#9c179e"
            ],
            [
             0.4444444444444444,
             "#bd3786"
            ],
            [
             0.5555555555555556,
             "#d8576b"
            ],
            [
             0.6666666666666666,
             "#ed7953"
            ],
            [
             0.7777777777777778,
             "#fb9f3a"
            ],
            [
             0.8888888888888888,
             "#fdca26"
            ],
            [
             1,
             "#f0f921"
            ]
           ],
           "sequentialminus": [
            [
             0,
             "#0d0887"
            ],
            [
             0.1111111111111111,
             "#46039f"
            ],
            [
             0.2222222222222222,
             "#7201a8"
            ],
            [
             0.3333333333333333,
             "#9c179e"
            ],
            [
             0.4444444444444444,
             "#bd3786"
            ],
            [
             0.5555555555555556,
             "#d8576b"
            ],
            [
             0.6666666666666666,
             "#ed7953"
            ],
            [
             0.7777777777777778,
             "#fb9f3a"
            ],
            [
             0.8888888888888888,
             "#fdca26"
            ],
            [
             1,
             "#f0f921"
            ]
           ]
          },
          "colorway": [
           "#636efa",
           "#EF553B",
           "#00cc96",
           "#ab63fa",
           "#FFA15A",
           "#19d3f3",
           "#FF6692",
           "#B6E880",
           "#FF97FF",
           "#FECB52"
          ],
          "font": {
           "color": "#2a3f5f"
          },
          "geo": {
           "bgcolor": "white",
           "lakecolor": "white",
           "landcolor": "#E5ECF6",
           "showlakes": true,
           "showland": true,
           "subunitcolor": "white"
          },
          "hoverlabel": {
           "align": "left"
          },
          "hovermode": "closest",
          "mapbox": {
           "style": "light"
          },
          "paper_bgcolor": "white",
          "plot_bgcolor": "#E5ECF6",
          "polar": {
           "angularaxis": {
            "gridcolor": "white",
            "linecolor": "white",
            "ticks": ""
           },
           "bgcolor": "#E5ECF6",
           "radialaxis": {
            "gridcolor": "white",
            "linecolor": "white",
            "ticks": ""
           }
          },
          "scene": {
           "xaxis": {
            "backgroundcolor": "#E5ECF6",
            "gridcolor": "white",
            "gridwidth": 2,
            "linecolor": "white",
            "showbackground": true,
            "ticks": "",
            "zerolinecolor": "white"
           },
           "yaxis": {
            "backgroundcolor": "#E5ECF6",
            "gridcolor": "white",
            "gridwidth": 2,
            "linecolor": "white",
            "showbackground": true,
            "ticks": "",
            "zerolinecolor": "white"
           },
           "zaxis": {
            "backgroundcolor": "#E5ECF6",
            "gridcolor": "white",
            "gridwidth": 2,
            "linecolor": "white",
            "showbackground": true,
            "ticks": "",
            "zerolinecolor": "white"
           }
          },
          "shapedefaults": {
           "line": {
            "color": "#2a3f5f"
           }
          },
          "ternary": {
           "aaxis": {
            "gridcolor": "white",
            "linecolor": "white",
            "ticks": ""
           },
           "baxis": {
            "gridcolor": "white",
            "linecolor": "white",
            "ticks": ""
           },
           "bgcolor": "#E5ECF6",
           "caxis": {
            "gridcolor": "white",
            "linecolor": "white",
            "ticks": ""
           }
          },
          "title": {
           "x": 0.05
          },
          "xaxis": {
           "automargin": true,
           "gridcolor": "white",
           "linecolor": "white",
           "ticks": "",
           "title": {
            "standoff": 15
           },
           "zerolinecolor": "white",
           "zerolinewidth": 2
          },
          "yaxis": {
           "automargin": true,
           "gridcolor": "white",
           "linecolor": "white",
           "ticks": "",
           "title": {
            "standoff": 15
           },
           "zerolinecolor": "white",
           "zerolinewidth": 2
          }
         }
        },
        "title": {
         "text": "Accuracy = 0.000"
        },
        "xaxis": {
         "anchor": "y",
         "domain": [
          0,
          1
         ],
         "title": {
          "text": "index"
         }
        },
        "yaxis": {
         "anchor": "x",
         "domain": [
          0,
          1
         ],
         "title": {
          "text": "value"
         }
        }
       }
      }
     },
     "metadata": {},
     "output_type": "display_data"
    }
   ],
   "source": [
    "for units in [6,12,24,48,72,96,128]:\n",
    "    for sequence_length in [24,48,72,168]:\n",
    "        for layers in [1,2,3]:\n",
    "            for afuncs in [{'gru':'relu','dense':'relu'},{'gru':'relu','dense':'relu'}]:\n",
    "            \n",
    "                # data\n",
    "                site = 'prpa'\n",
    "                filename = 'data/PRPA_load_cleaned_mjw.csv'\n",
    "                data_range = ['2021-6-7','2022-8-10']\n",
    "                dir = 'models'\n",
    "                features = ['Load (kW)',\n",
    "                            'Day',\n",
    "                            'Weekday',\n",
    "                            'Hour',\n",
    "                            'IMF1',                                \n",
    "                            'IMF2',                                \n",
    "                            'IMF3',\n",
    "                            'IMF4',\n",
    "                            'IMF5',\n",
    "                            'IMF6',\n",
    "                            'IMF7',\n",
    "                            'IMF8',]\n",
    "                targets = ['TargetsOH']\n",
    "\n",
    "                # model\n",
    "                rnn_type='gru'\n",
    "                #units=24\n",
    "                #layers=2\n",
    "                #dropout=0\n",
    "                #afuncs={'lstm':'relu','gru':'relu','dense':'relu'}\n",
    "\n",
    "                # training\n",
    "                #sequence_length=24\n",
    "                epochs=100\n",
    "                patience=20\n",
    "                train_split = 0.9\n",
    "                shift_steps = 1\n",
    "                loss='binary_crossentropy'\n",
    "                batch_size=1\n",
    "                np.random.seed(42)\n",
    "                tf_set_seed(42)\n",
    "\n",
    "                # output\n",
    "                verbose=0\n",
    "                output = True\n",
    "                plots = False\n",
    "                metrics=['accuracy']\n",
    "\n",
    "                # model filename\n",
    "                t = datetime.now()\n",
    "                path_checkpoint = f'{dir}/{site}/{t.year}-{t.month:02}-{t.day:02}_' + \\\n",
    "                                f'{t.hour:02}-{t.minute:02}-{t.second:02}_{rnn_type}-u{units}-l{layers}.keras'\n",
    "\n",
    "\n",
    "                ### begin\n",
    "\n",
    "                df,dppd,np_days = get_dat(site,filename,emd=True,rename=True,start=data_range[0],end=data_range[1])                    \n",
    "\n",
    "                df['LoadOH'] =      one_hot_of_peaks(df[['Load (kW)']])\n",
    "                df['TargetsOH'] =   one_hot_of_peaks(df[['Load (kW)']]).shift(-shift_steps)\n",
    "                df['NP1dOH'] =      one_hot_of_peaks(df[['Load (kW)']]).shift(np_days*dppd)\n",
    "                df = df.dropna()\n",
    "\n",
    "                # split\n",
    "                num_data = len(df)\n",
    "                num_train = int(train_split * num_data)\n",
    "                df_train = df.iloc[:num_train,:]\n",
    "                df_valid = df.iloc[num_train:,:]\n",
    "\n",
    "                feature_scaler = MinMaxScaler()\n",
    "                X_train = feature_scaler.fit_transform(df_train[features].values)\n",
    "                X_valid = feature_scaler.fit_transform(df_valid[features].values)\n",
    "\n",
    "                y_train = df_train.TargetsOH.values[:,np.newaxis]\n",
    "                y_valid = df_valid.TargetsOH.values[:,np.newaxis]\n",
    "\n",
    "                generator =    batch_generator( batch_size,\n",
    "                                                sequence_length,\n",
    "                                                num_x_signals=len(features),\n",
    "                                                num_y_signals=len(targets),\n",
    "                                                num_train=num_train,\n",
    "                                                x_train_scaled=X_train,\n",
    "                                                y_train_scaled=y_train)   \n",
    "\n",
    "                #X_batch, y_batch = next(generator)\n",
    "\n",
    "                X_valid = X_valid[np.newaxis,:,:]\n",
    "                y_valid = y_valid[np.newaxis,:,:] \n",
    "\n",
    "                if rnn_type == 'gru':\n",
    "                    model = Sequential()\n",
    "                    model.add( GRU( units=units,\n",
    "                                    return_sequences=True,\n",
    "                                    input_shape=(None, len(features),),\n",
    "                                    activation=afuncs[rnn_type]) )\n",
    "                    if layers > 1:\n",
    "                        model.add( GRU( units=units,\n",
    "                                        return_sequences=True,\n",
    "                                        activation=afuncs[rnn_type]) )\n",
    "                    if layers > 2:\n",
    "                        model.add( GRU( units=units,\n",
    "                                        return_sequences=True,\n",
    "                                        activation=afuncs[rnn_type]) )        \n",
    "                    model.add( Dense(len(targets), activation=afuncs['dense']) )\n",
    "\n",
    "                elif rnn_type == 'lstm':\n",
    "                    if layers==1:\n",
    "                        model = Sequential([LSTM(units=units, return_sequences=True,\n",
    "                                                input_shape=(None,len(features)),activation=afuncs[rnn_type]),\n",
    "                                            Dense(units=len(targets), activation=afuncs[rnn_type]) ] )\n",
    "                    elif layers==2:\n",
    "                        model = Sequential([LSTM(units=units, return_sequences=True,\n",
    "                                                input_shape=(None,len(features)),activation=afuncs[rnn_type]),\n",
    "                                            LSTM(units=units, return_sequences=True, activation=afuncs[rnn_type]), \n",
    "                                            Dense(units=len(targets), activation=afuncs[rnn_type]) ] )\n",
    "\n",
    "                model.compile( loss=loss, optimizer='adam', metrics=metrics )\n",
    "                model.summary()                \n",
    "\n",
    "                hx = model.fit( x=generator,\n",
    "                                epochs=epochs,\n",
    "                                steps_per_epoch=100,\n",
    "                                validation_data=(X_valid,y_valid),\n",
    "                                callbacks=[ ModelCheckpoint(filepath=path_checkpoint,\n",
    "                                                            monitor='val_loss',\n",
    "                                                            verbose=verbose,\n",
    "                                                            save_weights_only=True,\n",
    "                                                            save_best_only=True         ),\n",
    "                                            EarlyStopping  (monitor='val_loss',\n",
    "                                                            patience=patience,\n",
    "                                                            verbose=verbose             )   ])        \n",
    "\n",
    "                model.load_weights(path_checkpoint)\n",
    "                print('\\n/// Best Model Loss (valid)\\n',model.evaluate(X_valid,y_valid)[0])\n",
    "\n",
    "                y_valid_pred = model.predict(X_valid)\n",
    "                y_valid_flat      = y_valid[:,:,0].flatten()\n",
    "                y_valid_pred_flat = y_valid_pred[:,:,0].flatten()\n",
    "\n",
    "                df_valid.loc[:,'y'] = y_valid_flat\n",
    "                df_valid.loc[:,'y_pred'] = y_valid_pred_flat    \n",
    "\n",
    "                acc = accuracy_one_hot(df_valid['y'],one_hot_of_peaks(df_valid['y_pred']))\n",
    "                print('\\n/// Accuracy\\n',acc)\n",
    "\n",
    "                pd.DataFrame(hx.history).plot(title=f'Accuracy = {acc:.3f}')  "
   ]
  },
  {
   "cell_type": "code",
   "execution_count": 48,
   "metadata": {},
   "outputs": [
    {
     "name": "stdout",
     "output_type": "stream",
     "text": [
      "1/1 [==============================] - 0s 128ms/step\n"
     ]
    },
    {
     "name": "stderr",
     "output_type": "stream",
     "text": [
      "/tmp/ipykernel_240506/1170676387.py:3: SettingWithCopyWarning:\n",
      "\n",
      "\n",
      "A value is trying to be set on a copy of a slice from a DataFrame.\n",
      "Try using .loc[row_indexer,col_indexer] = value instead\n",
      "\n",
      "See the caveats in the documentation: https://pandas.pydata.org/pandas-docs/stable/user_guide/indexing.html#returning-a-view-versus-a-copy\n",
      "\n"
     ]
    },
    {
     "data": {
      "application/vnd.plotly.v1+json": {
       "config": {
        "plotlyServerURL": "https://plot.ly"
       },
       "data": [
        {
         "hovertemplate": "variable=y<br>Datetime=%{x}<br>value=%{y}<extra></extra>",
         "legendgroup": "y",
         "line": {
          "color": "#636efa",
          "dash": "solid"
         },
         "marker": {
          "symbol": "circle"
         },
         "mode": "lines",
         "name": "y",
         "orientation": "v",
         "showlegend": true,
         "type": "scatter",
         "x": [
          "2022-06-29T01:00:00",
          "2022-06-29T02:00:00",
          "2022-06-29T03:00:00",
          "2022-06-29T04:00:00",
          "2022-06-29T05:00:00",
          "2022-06-29T06:00:00",
          "2022-06-29T07:00:00",
          "2022-06-29T08:00:00",
          "2022-06-29T09:00:00",
          "2022-06-29T10:00:00",
          "2022-06-29T11:00:00",
          "2022-06-29T12:00:00",
          "2022-06-29T13:00:00",
          "2022-06-29T14:00:00",
          "2022-06-29T15:00:00",
          "2022-06-29T16:00:00",
          "2022-06-29T17:00:00",
          "2022-06-29T18:00:00",
          "2022-06-29T19:00:00",
          "2022-06-29T20:00:00",
          "2022-06-29T21:00:00",
          "2022-06-29T22:00:00",
          "2022-06-29T23:00:00",
          "2022-06-30T00:00:00",
          "2022-06-30T01:00:00",
          "2022-06-30T02:00:00",
          "2022-06-30T03:00:00",
          "2022-06-30T04:00:00",
          "2022-06-30T05:00:00",
          "2022-06-30T06:00:00",
          "2022-06-30T07:00:00",
          "2022-06-30T08:00:00",
          "2022-06-30T09:00:00",
          "2022-06-30T10:00:00",
          "2022-06-30T11:00:00",
          "2022-06-30T12:00:00",
          "2022-06-30T13:00:00",
          "2022-06-30T14:00:00",
          "2022-06-30T15:00:00",
          "2022-06-30T16:00:00",
          "2022-06-30T17:00:00",
          "2022-06-30T18:00:00",
          "2022-06-30T19:00:00",
          "2022-06-30T20:00:00",
          "2022-06-30T21:00:00",
          "2022-06-30T22:00:00",
          "2022-06-30T23:00:00",
          "2022-07-01T00:00:00",
          "2022-07-01T01:00:00",
          "2022-07-01T02:00:00",
          "2022-07-01T03:00:00",
          "2022-07-01T04:00:00",
          "2022-07-01T05:00:00",
          "2022-07-01T06:00:00",
          "2022-07-01T07:00:00",
          "2022-07-01T08:00:00",
          "2022-07-01T09:00:00",
          "2022-07-01T10:00:00",
          "2022-07-01T11:00:00",
          "2022-07-01T12:00:00",
          "2022-07-01T13:00:00",
          "2022-07-01T14:00:00",
          "2022-07-01T15:00:00",
          "2022-07-01T16:00:00",
          "2022-07-01T17:00:00",
          "2022-07-01T18:00:00",
          "2022-07-01T19:00:00",
          "2022-07-01T20:00:00",
          "2022-07-01T21:00:00",
          "2022-07-01T22:00:00",
          "2022-07-01T23:00:00",
          "2022-07-02T00:00:00",
          "2022-07-02T01:00:00",
          "2022-07-02T02:00:00",
          "2022-07-02T03:00:00",
          "2022-07-02T04:00:00",
          "2022-07-02T05:00:00",
          "2022-07-02T06:00:00",
          "2022-07-02T07:00:00",
          "2022-07-02T08:00:00",
          "2022-07-02T09:00:00",
          "2022-07-02T10:00:00",
          "2022-07-02T11:00:00",
          "2022-07-02T12:00:00",
          "2022-07-02T13:00:00",
          "2022-07-02T14:00:00",
          "2022-07-02T15:00:00",
          "2022-07-02T16:00:00",
          "2022-07-02T17:00:00",
          "2022-07-02T18:00:00",
          "2022-07-02T19:00:00",
          "2022-07-02T20:00:00",
          "2022-07-02T21:00:00",
          "2022-07-02T22:00:00",
          "2022-07-02T23:00:00",
          "2022-07-03T00:00:00",
          "2022-07-03T01:00:00",
          "2022-07-03T02:00:00",
          "2022-07-03T03:00:00",
          "2022-07-03T04:00:00",
          "2022-07-03T05:00:00",
          "2022-07-03T06:00:00",
          "2022-07-03T07:00:00",
          "2022-07-03T08:00:00",
          "2022-07-03T09:00:00",
          "2022-07-03T10:00:00",
          "2022-07-03T11:00:00",
          "2022-07-03T12:00:00",
          "2022-07-03T13:00:00",
          "2022-07-03T14:00:00",
          "2022-07-03T15:00:00",
          "2022-07-03T16:00:00",
          "2022-07-03T17:00:00",
          "2022-07-03T18:00:00",
          "2022-07-03T19:00:00",
          "2022-07-03T20:00:00",
          "2022-07-03T21:00:00",
          "2022-07-03T22:00:00",
          "2022-07-03T23:00:00",
          "2022-07-04T00:00:00",
          "2022-07-04T01:00:00",
          "2022-07-04T02:00:00",
          "2022-07-04T03:00:00",
          "2022-07-04T04:00:00",
          "2022-07-04T05:00:00",
          "2022-07-04T06:00:00",
          "2022-07-04T07:00:00",
          "2022-07-04T08:00:00",
          "2022-07-04T09:00:00",
          "2022-07-04T10:00:00",
          "2022-07-04T11:00:00",
          "2022-07-04T12:00:00",
          "2022-07-04T13:00:00",
          "2022-07-04T14:00:00",
          "2022-07-04T15:00:00",
          "2022-07-04T16:00:00",
          "2022-07-04T17:00:00",
          "2022-07-04T18:00:00",
          "2022-07-04T19:00:00",
          "2022-07-04T20:00:00",
          "2022-07-04T21:00:00",
          "2022-07-04T22:00:00",
          "2022-07-04T23:00:00",
          "2022-07-05T00:00:00",
          "2022-07-05T01:00:00",
          "2022-07-05T02:00:00",
          "2022-07-05T03:00:00",
          "2022-07-05T04:00:00",
          "2022-07-05T05:00:00",
          "2022-07-05T06:00:00",
          "2022-07-05T07:00:00",
          "2022-07-05T08:00:00",
          "2022-07-05T09:00:00",
          "2022-07-05T10:00:00",
          "2022-07-05T11:00:00",
          "2022-07-05T12:00:00",
          "2022-07-05T13:00:00",
          "2022-07-05T14:00:00",
          "2022-07-05T15:00:00",
          "2022-07-05T16:00:00",
          "2022-07-05T17:00:00",
          "2022-07-05T18:00:00",
          "2022-07-05T19:00:00",
          "2022-07-05T20:00:00",
          "2022-07-05T21:00:00",
          "2022-07-05T22:00:00",
          "2022-07-05T23:00:00",
          "2022-07-06T00:00:00"
         ],
         "xaxis": "x",
         "y": [
          0,
          0,
          0,
          0,
          0,
          0,
          0,
          0,
          0,
          0,
          0,
          0,
          0,
          0,
          1,
          0,
          0,
          0,
          0,
          0,
          0,
          0,
          0,
          0,
          0,
          0,
          0,
          0,
          0,
          0,
          0,
          0,
          0,
          0,
          0,
          0,
          0,
          0,
          0,
          1,
          0,
          0,
          0,
          0,
          0,
          0,
          0,
          0,
          0,
          0,
          0,
          0,
          0,
          0,
          0,
          0,
          0,
          0,
          0,
          0,
          0,
          0,
          0,
          1,
          0,
          0,
          0,
          0,
          0,
          0,
          0,
          0,
          0,
          0,
          0,
          0,
          0,
          0,
          0,
          0,
          0,
          0,
          0,
          0,
          0,
          0,
          0,
          1,
          0,
          0,
          0,
          0,
          0,
          0,
          0,
          0,
          0,
          0,
          0,
          0,
          0,
          0,
          0,
          0,
          0,
          0,
          0,
          0,
          1,
          0,
          0,
          0,
          0,
          0,
          0,
          0,
          0,
          0,
          0,
          0,
          0,
          0,
          0,
          0,
          0,
          0,
          0,
          0,
          0,
          0,
          0,
          0,
          1,
          0,
          0,
          0,
          0,
          0,
          0,
          0,
          0,
          0,
          0,
          0,
          0,
          0,
          0,
          0,
          0,
          0,
          0,
          0,
          0,
          0,
          0,
          1,
          0,
          0,
          0,
          0,
          0,
          0,
          0,
          0,
          0,
          0,
          0,
          0
         ],
         "yaxis": "y"
        },
        {
         "hovertemplate": "variable=y_pred<br>Datetime=%{x}<br>value=%{y}<extra></extra>",
         "legendgroup": "y_pred",
         "line": {
          "color": "#EF553B",
          "dash": "solid"
         },
         "marker": {
          "symbol": "circle"
         },
         "mode": "lines",
         "name": "y_pred",
         "orientation": "v",
         "showlegend": true,
         "type": "scatter",
         "x": [
          "2022-06-29T01:00:00",
          "2022-06-29T02:00:00",
          "2022-06-29T03:00:00",
          "2022-06-29T04:00:00",
          "2022-06-29T05:00:00",
          "2022-06-29T06:00:00",
          "2022-06-29T07:00:00",
          "2022-06-29T08:00:00",
          "2022-06-29T09:00:00",
          "2022-06-29T10:00:00",
          "2022-06-29T11:00:00",
          "2022-06-29T12:00:00",
          "2022-06-29T13:00:00",
          "2022-06-29T14:00:00",
          "2022-06-29T15:00:00",
          "2022-06-29T16:00:00",
          "2022-06-29T17:00:00",
          "2022-06-29T18:00:00",
          "2022-06-29T19:00:00",
          "2022-06-29T20:00:00",
          "2022-06-29T21:00:00",
          "2022-06-29T22:00:00",
          "2022-06-29T23:00:00",
          "2022-06-30T00:00:00",
          "2022-06-30T01:00:00",
          "2022-06-30T02:00:00",
          "2022-06-30T03:00:00",
          "2022-06-30T04:00:00",
          "2022-06-30T05:00:00",
          "2022-06-30T06:00:00",
          "2022-06-30T07:00:00",
          "2022-06-30T08:00:00",
          "2022-06-30T09:00:00",
          "2022-06-30T10:00:00",
          "2022-06-30T11:00:00",
          "2022-06-30T12:00:00",
          "2022-06-30T13:00:00",
          "2022-06-30T14:00:00",
          "2022-06-30T15:00:00",
          "2022-06-30T16:00:00",
          "2022-06-30T17:00:00",
          "2022-06-30T18:00:00",
          "2022-06-30T19:00:00",
          "2022-06-30T20:00:00",
          "2022-06-30T21:00:00",
          "2022-06-30T22:00:00",
          "2022-06-30T23:00:00",
          "2022-07-01T00:00:00",
          "2022-07-01T01:00:00",
          "2022-07-01T02:00:00",
          "2022-07-01T03:00:00",
          "2022-07-01T04:00:00",
          "2022-07-01T05:00:00",
          "2022-07-01T06:00:00",
          "2022-07-01T07:00:00",
          "2022-07-01T08:00:00",
          "2022-07-01T09:00:00",
          "2022-07-01T10:00:00",
          "2022-07-01T11:00:00",
          "2022-07-01T12:00:00",
          "2022-07-01T13:00:00",
          "2022-07-01T14:00:00",
          "2022-07-01T15:00:00",
          "2022-07-01T16:00:00",
          "2022-07-01T17:00:00",
          "2022-07-01T18:00:00",
          "2022-07-01T19:00:00",
          "2022-07-01T20:00:00",
          "2022-07-01T21:00:00",
          "2022-07-01T22:00:00",
          "2022-07-01T23:00:00",
          "2022-07-02T00:00:00",
          "2022-07-02T01:00:00",
          "2022-07-02T02:00:00",
          "2022-07-02T03:00:00",
          "2022-07-02T04:00:00",
          "2022-07-02T05:00:00",
          "2022-07-02T06:00:00",
          "2022-07-02T07:00:00",
          "2022-07-02T08:00:00",
          "2022-07-02T09:00:00",
          "2022-07-02T10:00:00",
          "2022-07-02T11:00:00",
          "2022-07-02T12:00:00",
          "2022-07-02T13:00:00",
          "2022-07-02T14:00:00",
          "2022-07-02T15:00:00",
          "2022-07-02T16:00:00",
          "2022-07-02T17:00:00",
          "2022-07-02T18:00:00",
          "2022-07-02T19:00:00",
          "2022-07-02T20:00:00",
          "2022-07-02T21:00:00",
          "2022-07-02T22:00:00",
          "2022-07-02T23:00:00",
          "2022-07-03T00:00:00",
          "2022-07-03T01:00:00",
          "2022-07-03T02:00:00",
          "2022-07-03T03:00:00",
          "2022-07-03T04:00:00",
          "2022-07-03T05:00:00",
          "2022-07-03T06:00:00",
          "2022-07-03T07:00:00",
          "2022-07-03T08:00:00",
          "2022-07-03T09:00:00",
          "2022-07-03T10:00:00",
          "2022-07-03T11:00:00",
          "2022-07-03T12:00:00",
          "2022-07-03T13:00:00",
          "2022-07-03T14:00:00",
          "2022-07-03T15:00:00",
          "2022-07-03T16:00:00",
          "2022-07-03T17:00:00",
          "2022-07-03T18:00:00",
          "2022-07-03T19:00:00",
          "2022-07-03T20:00:00",
          "2022-07-03T21:00:00",
          "2022-07-03T22:00:00",
          "2022-07-03T23:00:00",
          "2022-07-04T00:00:00",
          "2022-07-04T01:00:00",
          "2022-07-04T02:00:00",
          "2022-07-04T03:00:00",
          "2022-07-04T04:00:00",
          "2022-07-04T05:00:00",
          "2022-07-04T06:00:00",
          "2022-07-04T07:00:00",
          "2022-07-04T08:00:00",
          "2022-07-04T09:00:00",
          "2022-07-04T10:00:00",
          "2022-07-04T11:00:00",
          "2022-07-04T12:00:00",
          "2022-07-04T13:00:00",
          "2022-07-04T14:00:00",
          "2022-07-04T15:00:00",
          "2022-07-04T16:00:00",
          "2022-07-04T17:00:00",
          "2022-07-04T18:00:00",
          "2022-07-04T19:00:00",
          "2022-07-04T20:00:00",
          "2022-07-04T21:00:00",
          "2022-07-04T22:00:00",
          "2022-07-04T23:00:00",
          "2022-07-05T00:00:00",
          "2022-07-05T01:00:00",
          "2022-07-05T02:00:00",
          "2022-07-05T03:00:00",
          "2022-07-05T04:00:00",
          "2022-07-05T05:00:00",
          "2022-07-05T06:00:00",
          "2022-07-05T07:00:00",
          "2022-07-05T08:00:00",
          "2022-07-05T09:00:00",
          "2022-07-05T10:00:00",
          "2022-07-05T11:00:00",
          "2022-07-05T12:00:00",
          "2022-07-05T13:00:00",
          "2022-07-05T14:00:00",
          "2022-07-05T15:00:00",
          "2022-07-05T16:00:00",
          "2022-07-05T17:00:00",
          "2022-07-05T18:00:00",
          "2022-07-05T19:00:00",
          "2022-07-05T20:00:00",
          "2022-07-05T21:00:00",
          "2022-07-05T22:00:00",
          "2022-07-05T23:00:00",
          "2022-07-06T00:00:00"
         ],
         "xaxis": "x",
         "y": [
          0.9999999403953552,
          0.9999999403953552,
          0.9999999403953552,
          0.9999999403953552,
          0.9999999403953552,
          0.9999999403953552,
          0.9999999403953552,
          0.9999999403953552,
          0.9999999403953552,
          0.9999999403953552,
          0.9999999403953552,
          0.9999999403953552,
          0.9999999403953552,
          0.9999999403953552,
          0.9999999403953552,
          0.9999999403953552,
          0.9999999403953552,
          0.9999999403953552,
          0.9999999403953552,
          0.9999999403953552,
          0.9999999403953552,
          0.9999999403953552,
          0.9999999403953552,
          0.9999999403953552,
          0.9999999403953552,
          0.9999999403953552,
          0.9999999403953552,
          0.9999999403953552,
          0.9999999403953552,
          0.9999999403953552,
          0.9999999403953552,
          0.9999999403953552,
          0.9999999403953552,
          0.9999999403953552,
          0.9999999403953552,
          0.9999999403953552,
          0.9999999403953552,
          0.9999999403953552,
          0.9999999403953552,
          0.9999999403953552,
          0.9999999403953552,
          0.9999999403953552,
          0.9999999403953552,
          0.9999999403953552,
          0.9999999403953552,
          0.9999999403953552,
          0.9999999403953552,
          0.9999999403953552,
          0.9999999403953552,
          0.9999999403953552,
          0.9999999403953552,
          0.9999999403953552,
          0.9999999403953552,
          0.9999999403953552,
          0.9999999403953552,
          0.9999999403953552,
          0.9999999403953552,
          0.9999999403953552,
          0.9999999403953552,
          0.9999999403953552,
          0.9999999403953552,
          0.9999999403953552,
          0.9999999403953552,
          0.9999999403953552,
          0.9999999403953552,
          0.9999999403953552,
          0.9999999403953552,
          0.9999999403953552,
          0.9999999403953552,
          0.9999999403953552,
          0.9999999403953552,
          0.9999999403953552,
          0.9999999403953552,
          0.9999999403953552,
          0.9999999403953552,
          0.9999999403953552,
          0.9999999403953552,
          0.9999999403953552,
          0.9999999403953552,
          0.9999999403953552,
          0.9999999403953552,
          0.9999999403953552,
          0.9999999403953552,
          0.9999999403953552,
          0.9999999403953552,
          0.9999999403953552,
          0.9999999403953552,
          0.9999999403953552,
          0.9999999403953552,
          0.9999999403953552,
          0.9999999403953552,
          0.9999999403953552,
          0.9999999403953552,
          0.9999999403953552,
          0.9999999403953552,
          0.9999999403953552,
          0.9999999403953552,
          0.9999999403953552,
          0.9999999403953552,
          0.9999999403953552,
          0.9999999403953552,
          0.9999999403953552,
          0.9999999403953552,
          0.9999999403953552,
          0.9999999403953552,
          0.9999999403953552,
          0.9999999403953552,
          0.9999999403953552,
          0.9999999403953552,
          0.9999999403953552,
          0.9999999403953552,
          0.9999999403953552,
          0.9999999403953552,
          0.9999999403953552,
          0.9999999403953552,
          0.9999999403953552,
          0.9999999403953552,
          0.9999999403953552,
          0.9999999403953552,
          0.9999999403953552,
          0.9999999403953552,
          0.9999999403953552,
          0.9999999403953552,
          0.9999999403953552,
          0.9999999403953552,
          0.9999999403953552,
          0.9999999403953552,
          0.9999999403953552,
          0.9999999403953552,
          0.9999999403953552,
          0.9999999403953552,
          0.9999999403953552,
          0.9999999403953552,
          0.9999999403953552,
          0.9999999403953552,
          0.9999999403953552,
          0.9999999403953552,
          0.9999999403953552,
          0.9999999403953552,
          0.9999999403953552,
          0.9999999403953552,
          0.9999999403953552,
          0.9999999403953552,
          0.9999999403953552,
          0.9999999403953552,
          0.9999999403953552,
          0.9999999403953552,
          0.9999999403953552,
          0.9999999403953552,
          0.9999999403953552,
          0.9999999403953552,
          0.9999999403953552,
          0.9999999403953552,
          0.9999999403953552,
          0.9999999403953552,
          0.9999999403953552,
          0.9999999403953552,
          0.9999999403953552,
          0.9999999403953552,
          0.9999999403953552,
          0.9999999403953552,
          0.9999999403953552,
          0.9999999403953552,
          0.9999999403953552,
          0.9999999403953552,
          0.9999999403953552,
          0.9999999403953552,
          0.9999999403953552
         ],
         "yaxis": "y"
        },
        {
         "hovertemplate": "variable=NP1dOH<br>Datetime=%{x}<br>value=%{y}<extra></extra>",
         "legendgroup": "NP1dOH",
         "line": {
          "color": "#00cc96",
          "dash": "solid"
         },
         "marker": {
          "symbol": "circle"
         },
         "mode": "lines",
         "name": "NP1dOH",
         "orientation": "v",
         "showlegend": true,
         "type": "scatter",
         "x": [
          "2022-06-29T01:00:00",
          "2022-06-29T02:00:00",
          "2022-06-29T03:00:00",
          "2022-06-29T04:00:00",
          "2022-06-29T05:00:00",
          "2022-06-29T06:00:00",
          "2022-06-29T07:00:00",
          "2022-06-29T08:00:00",
          "2022-06-29T09:00:00",
          "2022-06-29T10:00:00",
          "2022-06-29T11:00:00",
          "2022-06-29T12:00:00",
          "2022-06-29T13:00:00",
          "2022-06-29T14:00:00",
          "2022-06-29T15:00:00",
          "2022-06-29T16:00:00",
          "2022-06-29T17:00:00",
          "2022-06-29T18:00:00",
          "2022-06-29T19:00:00",
          "2022-06-29T20:00:00",
          "2022-06-29T21:00:00",
          "2022-06-29T22:00:00",
          "2022-06-29T23:00:00",
          "2022-06-30T00:00:00",
          "2022-06-30T01:00:00",
          "2022-06-30T02:00:00",
          "2022-06-30T03:00:00",
          "2022-06-30T04:00:00",
          "2022-06-30T05:00:00",
          "2022-06-30T06:00:00",
          "2022-06-30T07:00:00",
          "2022-06-30T08:00:00",
          "2022-06-30T09:00:00",
          "2022-06-30T10:00:00",
          "2022-06-30T11:00:00",
          "2022-06-30T12:00:00",
          "2022-06-30T13:00:00",
          "2022-06-30T14:00:00",
          "2022-06-30T15:00:00",
          "2022-06-30T16:00:00",
          "2022-06-30T17:00:00",
          "2022-06-30T18:00:00",
          "2022-06-30T19:00:00",
          "2022-06-30T20:00:00",
          "2022-06-30T21:00:00",
          "2022-06-30T22:00:00",
          "2022-06-30T23:00:00",
          "2022-07-01T00:00:00",
          "2022-07-01T01:00:00",
          "2022-07-01T02:00:00",
          "2022-07-01T03:00:00",
          "2022-07-01T04:00:00",
          "2022-07-01T05:00:00",
          "2022-07-01T06:00:00",
          "2022-07-01T07:00:00",
          "2022-07-01T08:00:00",
          "2022-07-01T09:00:00",
          "2022-07-01T10:00:00",
          "2022-07-01T11:00:00",
          "2022-07-01T12:00:00",
          "2022-07-01T13:00:00",
          "2022-07-01T14:00:00",
          "2022-07-01T15:00:00",
          "2022-07-01T16:00:00",
          "2022-07-01T17:00:00",
          "2022-07-01T18:00:00",
          "2022-07-01T19:00:00",
          "2022-07-01T20:00:00",
          "2022-07-01T21:00:00",
          "2022-07-01T22:00:00",
          "2022-07-01T23:00:00",
          "2022-07-02T00:00:00",
          "2022-07-02T01:00:00",
          "2022-07-02T02:00:00",
          "2022-07-02T03:00:00",
          "2022-07-02T04:00:00",
          "2022-07-02T05:00:00",
          "2022-07-02T06:00:00",
          "2022-07-02T07:00:00",
          "2022-07-02T08:00:00",
          "2022-07-02T09:00:00",
          "2022-07-02T10:00:00",
          "2022-07-02T11:00:00",
          "2022-07-02T12:00:00",
          "2022-07-02T13:00:00",
          "2022-07-02T14:00:00",
          "2022-07-02T15:00:00",
          "2022-07-02T16:00:00",
          "2022-07-02T17:00:00",
          "2022-07-02T18:00:00",
          "2022-07-02T19:00:00",
          "2022-07-02T20:00:00",
          "2022-07-02T21:00:00",
          "2022-07-02T22:00:00",
          "2022-07-02T23:00:00",
          "2022-07-03T00:00:00",
          "2022-07-03T01:00:00",
          "2022-07-03T02:00:00",
          "2022-07-03T03:00:00",
          "2022-07-03T04:00:00",
          "2022-07-03T05:00:00",
          "2022-07-03T06:00:00",
          "2022-07-03T07:00:00",
          "2022-07-03T08:00:00",
          "2022-07-03T09:00:00",
          "2022-07-03T10:00:00",
          "2022-07-03T11:00:00",
          "2022-07-03T12:00:00",
          "2022-07-03T13:00:00",
          "2022-07-03T14:00:00",
          "2022-07-03T15:00:00",
          "2022-07-03T16:00:00",
          "2022-07-03T17:00:00",
          "2022-07-03T18:00:00",
          "2022-07-03T19:00:00",
          "2022-07-03T20:00:00",
          "2022-07-03T21:00:00",
          "2022-07-03T22:00:00",
          "2022-07-03T23:00:00",
          "2022-07-04T00:00:00",
          "2022-07-04T01:00:00",
          "2022-07-04T02:00:00",
          "2022-07-04T03:00:00",
          "2022-07-04T04:00:00",
          "2022-07-04T05:00:00",
          "2022-07-04T06:00:00",
          "2022-07-04T07:00:00",
          "2022-07-04T08:00:00",
          "2022-07-04T09:00:00",
          "2022-07-04T10:00:00",
          "2022-07-04T11:00:00",
          "2022-07-04T12:00:00",
          "2022-07-04T13:00:00",
          "2022-07-04T14:00:00",
          "2022-07-04T15:00:00",
          "2022-07-04T16:00:00",
          "2022-07-04T17:00:00",
          "2022-07-04T18:00:00",
          "2022-07-04T19:00:00",
          "2022-07-04T20:00:00",
          "2022-07-04T21:00:00",
          "2022-07-04T22:00:00",
          "2022-07-04T23:00:00",
          "2022-07-05T00:00:00",
          "2022-07-05T01:00:00",
          "2022-07-05T02:00:00",
          "2022-07-05T03:00:00",
          "2022-07-05T04:00:00",
          "2022-07-05T05:00:00",
          "2022-07-05T06:00:00",
          "2022-07-05T07:00:00",
          "2022-07-05T08:00:00",
          "2022-07-05T09:00:00",
          "2022-07-05T10:00:00",
          "2022-07-05T11:00:00",
          "2022-07-05T12:00:00",
          "2022-07-05T13:00:00",
          "2022-07-05T14:00:00",
          "2022-07-05T15:00:00",
          "2022-07-05T16:00:00",
          "2022-07-05T17:00:00",
          "2022-07-05T18:00:00",
          "2022-07-05T19:00:00",
          "2022-07-05T20:00:00",
          "2022-07-05T21:00:00",
          "2022-07-05T22:00:00",
          "2022-07-05T23:00:00",
          "2022-07-06T00:00:00"
         ],
         "xaxis": "x",
         "y": [
          0,
          0,
          0,
          0,
          0,
          0,
          0,
          0,
          0,
          0,
          0,
          0,
          0,
          0,
          0,
          0,
          1,
          0,
          0,
          0,
          0,
          0,
          0,
          0,
          0,
          0,
          0,
          0,
          0,
          0,
          0,
          0,
          0,
          0,
          0,
          0,
          0,
          0,
          0,
          1,
          0,
          0,
          0,
          0,
          0,
          0,
          0,
          0,
          0,
          0,
          0,
          0,
          0,
          0,
          0,
          0,
          0,
          0,
          0,
          0,
          0,
          0,
          0,
          0,
          1,
          0,
          0,
          0,
          0,
          0,
          0,
          0,
          0,
          0,
          0,
          0,
          0,
          0,
          0,
          0,
          0,
          0,
          0,
          0,
          0,
          0,
          0,
          0,
          1,
          0,
          0,
          0,
          0,
          0,
          0,
          0,
          0,
          0,
          0,
          0,
          0,
          0,
          0,
          0,
          0,
          0,
          0,
          0,
          0,
          0,
          0,
          0,
          1,
          0,
          0,
          0,
          0,
          0,
          0,
          0,
          0,
          0,
          0,
          0,
          0,
          0,
          0,
          0,
          0,
          0,
          0,
          0,
          0,
          1,
          0,
          0,
          0,
          0,
          0,
          0,
          0,
          0,
          0,
          0,
          0,
          0,
          0,
          0,
          0,
          0,
          0,
          0,
          0,
          0,
          0,
          0,
          0,
          1,
          0,
          0,
          0,
          0,
          0,
          0,
          0,
          0,
          0,
          0
         ],
         "yaxis": "y"
        }
       ],
       "layout": {
        "legend": {
         "title": {
          "text": "variable"
         },
         "tracegroupgap": 0
        },
        "margin": {
         "t": 60
        },
        "template": {
         "data": {
          "bar": [
           {
            "error_x": {
             "color": "#2a3f5f"
            },
            "error_y": {
             "color": "#2a3f5f"
            },
            "marker": {
             "line": {
              "color": "#E5ECF6",
              "width": 0.5
             },
             "pattern": {
              "fillmode": "overlay",
              "size": 10,
              "solidity": 0.2
             }
            },
            "type": "bar"
           }
          ],
          "barpolar": [
           {
            "marker": {
             "line": {
              "color": "#E5ECF6",
              "width": 0.5
             },
             "pattern": {
              "fillmode": "overlay",
              "size": 10,
              "solidity": 0.2
             }
            },
            "type": "barpolar"
           }
          ],
          "carpet": [
           {
            "aaxis": {
             "endlinecolor": "#2a3f5f",
             "gridcolor": "white",
             "linecolor": "white",
             "minorgridcolor": "white",
             "startlinecolor": "#2a3f5f"
            },
            "baxis": {
             "endlinecolor": "#2a3f5f",
             "gridcolor": "white",
             "linecolor": "white",
             "minorgridcolor": "white",
             "startlinecolor": "#2a3f5f"
            },
            "type": "carpet"
           }
          ],
          "choropleth": [
           {
            "colorbar": {
             "outlinewidth": 0,
             "ticks": ""
            },
            "type": "choropleth"
           }
          ],
          "contour": [
           {
            "colorbar": {
             "outlinewidth": 0,
             "ticks": ""
            },
            "colorscale": [
             [
              0,
              "#0d0887"
             ],
             [
              0.1111111111111111,
              "#46039f"
             ],
             [
              0.2222222222222222,
              "#7201a8"
             ],
             [
              0.3333333333333333,
              "#9c179e"
             ],
             [
              0.4444444444444444,
              "#bd3786"
             ],
             [
              0.5555555555555556,
              "#d8576b"
             ],
             [
              0.6666666666666666,
              "#ed7953"
             ],
             [
              0.7777777777777778,
              "#fb9f3a"
             ],
             [
              0.8888888888888888,
              "#fdca26"
             ],
             [
              1,
              "#f0f921"
             ]
            ],
            "type": "contour"
           }
          ],
          "contourcarpet": [
           {
            "colorbar": {
             "outlinewidth": 0,
             "ticks": ""
            },
            "type": "contourcarpet"
           }
          ],
          "heatmap": [
           {
            "colorbar": {
             "outlinewidth": 0,
             "ticks": ""
            },
            "colorscale": [
             [
              0,
              "#0d0887"
             ],
             [
              0.1111111111111111,
              "#46039f"
             ],
             [
              0.2222222222222222,
              "#7201a8"
             ],
             [
              0.3333333333333333,
              "#9c179e"
             ],
             [
              0.4444444444444444,
              "#bd3786"
             ],
             [
              0.5555555555555556,
              "#d8576b"
             ],
             [
              0.6666666666666666,
              "#ed7953"
             ],
             [
              0.7777777777777778,
              "#fb9f3a"
             ],
             [
              0.8888888888888888,
              "#fdca26"
             ],
             [
              1,
              "#f0f921"
             ]
            ],
            "type": "heatmap"
           }
          ],
          "heatmapgl": [
           {
            "colorbar": {
             "outlinewidth": 0,
             "ticks": ""
            },
            "colorscale": [
             [
              0,
              "#0d0887"
             ],
             [
              0.1111111111111111,
              "#46039f"
             ],
             [
              0.2222222222222222,
              "#7201a8"
             ],
             [
              0.3333333333333333,
              "#9c179e"
             ],
             [
              0.4444444444444444,
              "#bd3786"
             ],
             [
              0.5555555555555556,
              "#d8576b"
             ],
             [
              0.6666666666666666,
              "#ed7953"
             ],
             [
              0.7777777777777778,
              "#fb9f3a"
             ],
             [
              0.8888888888888888,
              "#fdca26"
             ],
             [
              1,
              "#f0f921"
             ]
            ],
            "type": "heatmapgl"
           }
          ],
          "histogram": [
           {
            "marker": {
             "pattern": {
              "fillmode": "overlay",
              "size": 10,
              "solidity": 0.2
             }
            },
            "type": "histogram"
           }
          ],
          "histogram2d": [
           {
            "colorbar": {
             "outlinewidth": 0,
             "ticks": ""
            },
            "colorscale": [
             [
              0,
              "#0d0887"
             ],
             [
              0.1111111111111111,
              "#46039f"
             ],
             [
              0.2222222222222222,
              "#7201a8"
             ],
             [
              0.3333333333333333,
              "#9c179e"
             ],
             [
              0.4444444444444444,
              "#bd3786"
             ],
             [
              0.5555555555555556,
              "#d8576b"
             ],
             [
              0.6666666666666666,
              "#ed7953"
             ],
             [
              0.7777777777777778,
              "#fb9f3a"
             ],
             [
              0.8888888888888888,
              "#fdca26"
             ],
             [
              1,
              "#f0f921"
             ]
            ],
            "type": "histogram2d"
           }
          ],
          "histogram2dcontour": [
           {
            "colorbar": {
             "outlinewidth": 0,
             "ticks": ""
            },
            "colorscale": [
             [
              0,
              "#0d0887"
             ],
             [
              0.1111111111111111,
              "#46039f"
             ],
             [
              0.2222222222222222,
              "#7201a8"
             ],
             [
              0.3333333333333333,
              "#9c179e"
             ],
             [
              0.4444444444444444,
              "#bd3786"
             ],
             [
              0.5555555555555556,
              "#d8576b"
             ],
             [
              0.6666666666666666,
              "#ed7953"
             ],
             [
              0.7777777777777778,
              "#fb9f3a"
             ],
             [
              0.8888888888888888,
              "#fdca26"
             ],
             [
              1,
              "#f0f921"
             ]
            ],
            "type": "histogram2dcontour"
           }
          ],
          "mesh3d": [
           {
            "colorbar": {
             "outlinewidth": 0,
             "ticks": ""
            },
            "type": "mesh3d"
           }
          ],
          "parcoords": [
           {
            "line": {
             "colorbar": {
              "outlinewidth": 0,
              "ticks": ""
             }
            },
            "type": "parcoords"
           }
          ],
          "pie": [
           {
            "automargin": true,
            "type": "pie"
           }
          ],
          "scatter": [
           {
            "fillpattern": {
             "fillmode": "overlay",
             "size": 10,
             "solidity": 0.2
            },
            "type": "scatter"
           }
          ],
          "scatter3d": [
           {
            "line": {
             "colorbar": {
              "outlinewidth": 0,
              "ticks": ""
             }
            },
            "marker": {
             "colorbar": {
              "outlinewidth": 0,
              "ticks": ""
             }
            },
            "type": "scatter3d"
           }
          ],
          "scattercarpet": [
           {
            "marker": {
             "colorbar": {
              "outlinewidth": 0,
              "ticks": ""
             }
            },
            "type": "scattercarpet"
           }
          ],
          "scattergeo": [
           {
            "marker": {
             "colorbar": {
              "outlinewidth": 0,
              "ticks": ""
             }
            },
            "type": "scattergeo"
           }
          ],
          "scattergl": [
           {
            "marker": {
             "colorbar": {
              "outlinewidth": 0,
              "ticks": ""
             }
            },
            "type": "scattergl"
           }
          ],
          "scattermapbox": [
           {
            "marker": {
             "colorbar": {
              "outlinewidth": 0,
              "ticks": ""
             }
            },
            "type": "scattermapbox"
           }
          ],
          "scatterpolar": [
           {
            "marker": {
             "colorbar": {
              "outlinewidth": 0,
              "ticks": ""
             }
            },
            "type": "scatterpolar"
           }
          ],
          "scatterpolargl": [
           {
            "marker": {
             "colorbar": {
              "outlinewidth": 0,
              "ticks": ""
             }
            },
            "type": "scatterpolargl"
           }
          ],
          "scatterternary": [
           {
            "marker": {
             "colorbar": {
              "outlinewidth": 0,
              "ticks": ""
             }
            },
            "type": "scatterternary"
           }
          ],
          "surface": [
           {
            "colorbar": {
             "outlinewidth": 0,
             "ticks": ""
            },
            "colorscale": [
             [
              0,
              "#0d0887"
             ],
             [
              0.1111111111111111,
              "#46039f"
             ],
             [
              0.2222222222222222,
              "#7201a8"
             ],
             [
              0.3333333333333333,
              "#9c179e"
             ],
             [
              0.4444444444444444,
              "#bd3786"
             ],
             [
              0.5555555555555556,
              "#d8576b"
             ],
             [
              0.6666666666666666,
              "#ed7953"
             ],
             [
              0.7777777777777778,
              "#fb9f3a"
             ],
             [
              0.8888888888888888,
              "#fdca26"
             ],
             [
              1,
              "#f0f921"
             ]
            ],
            "type": "surface"
           }
          ],
          "table": [
           {
            "cells": {
             "fill": {
              "color": "#EBF0F8"
             },
             "line": {
              "color": "white"
             }
            },
            "header": {
             "fill": {
              "color": "#C8D4E3"
             },
             "line": {
              "color": "white"
             }
            },
            "type": "table"
           }
          ]
         },
         "layout": {
          "annotationdefaults": {
           "arrowcolor": "#2a3f5f",
           "arrowhead": 0,
           "arrowwidth": 1
          },
          "autotypenumbers": "strict",
          "coloraxis": {
           "colorbar": {
            "outlinewidth": 0,
            "ticks": ""
           }
          },
          "colorscale": {
           "diverging": [
            [
             0,
             "#8e0152"
            ],
            [
             0.1,
             "#c51b7d"
            ],
            [
             0.2,
             "#de77ae"
            ],
            [
             0.3,
             "#f1b6da"
            ],
            [
             0.4,
             "#fde0ef"
            ],
            [
             0.5,
             "#f7f7f7"
            ],
            [
             0.6,
             "#e6f5d0"
            ],
            [
             0.7,
             "#b8e186"
            ],
            [
             0.8,
             "#7fbc41"
            ],
            [
             0.9,
             "#4d9221"
            ],
            [
             1,
             "#276419"
            ]
           ],
           "sequential": [
            [
             0,
             "#0d0887"
            ],
            [
             0.1111111111111111,
             "#46039f"
            ],
            [
             0.2222222222222222,
             "#7201a8"
            ],
            [
             0.3333333333333333,
             "#9c179e"
            ],
            [
             0.4444444444444444,
             "#bd3786"
            ],
            [
             0.5555555555555556,
             "#d8576b"
            ],
            [
             0.6666666666666666,
             "#ed7953"
            ],
            [
             0.7777777777777778,
             "#fb9f3a"
            ],
            [
             0.8888888888888888,
             "#fdca26"
            ],
            [
             1,
             "#f0f921"
            ]
           ],
           "sequentialminus": [
            [
             0,
             "#0d0887"
            ],
            [
             0.1111111111111111,
             "#46039f"
            ],
            [
             0.2222222222222222,
             "#7201a8"
            ],
            [
             0.3333333333333333,
             "#9c179e"
            ],
            [
             0.4444444444444444,
             "#bd3786"
            ],
            [
             0.5555555555555556,
             "#d8576b"
            ],
            [
             0.6666666666666666,
             "#ed7953"
            ],
            [
             0.7777777777777778,
             "#fb9f3a"
            ],
            [
             0.8888888888888888,
             "#fdca26"
            ],
            [
             1,
             "#f0f921"
            ]
           ]
          },
          "colorway": [
           "#636efa",
           "#EF553B",
           "#00cc96",
           "#ab63fa",
           "#FFA15A",
           "#19d3f3",
           "#FF6692",
           "#B6E880",
           "#FF97FF",
           "#FECB52"
          ],
          "font": {
           "color": "#2a3f5f"
          },
          "geo": {
           "bgcolor": "white",
           "lakecolor": "white",
           "landcolor": "#E5ECF6",
           "showlakes": true,
           "showland": true,
           "subunitcolor": "white"
          },
          "hoverlabel": {
           "align": "left"
          },
          "hovermode": "closest",
          "mapbox": {
           "style": "light"
          },
          "paper_bgcolor": "white",
          "plot_bgcolor": "#E5ECF6",
          "polar": {
           "angularaxis": {
            "gridcolor": "white",
            "linecolor": "white",
            "ticks": ""
           },
           "bgcolor": "#E5ECF6",
           "radialaxis": {
            "gridcolor": "white",
            "linecolor": "white",
            "ticks": ""
           }
          },
          "scene": {
           "xaxis": {
            "backgroundcolor": "#E5ECF6",
            "gridcolor": "white",
            "gridwidth": 2,
            "linecolor": "white",
            "showbackground": true,
            "ticks": "",
            "zerolinecolor": "white"
           },
           "yaxis": {
            "backgroundcolor": "#E5ECF6",
            "gridcolor": "white",
            "gridwidth": 2,
            "linecolor": "white",
            "showbackground": true,
            "ticks": "",
            "zerolinecolor": "white"
           },
           "zaxis": {
            "backgroundcolor": "#E5ECF6",
            "gridcolor": "white",
            "gridwidth": 2,
            "linecolor": "white",
            "showbackground": true,
            "ticks": "",
            "zerolinecolor": "white"
           }
          },
          "shapedefaults": {
           "line": {
            "color": "#2a3f5f"
           }
          },
          "ternary": {
           "aaxis": {
            "gridcolor": "white",
            "linecolor": "white",
            "ticks": ""
           },
           "baxis": {
            "gridcolor": "white",
            "linecolor": "white",
            "ticks": ""
           },
           "bgcolor": "#E5ECF6",
           "caxis": {
            "gridcolor": "white",
            "linecolor": "white",
            "ticks": ""
           }
          },
          "title": {
           "x": 0.05
          },
          "xaxis": {
           "automargin": true,
           "gridcolor": "white",
           "linecolor": "white",
           "ticks": "",
           "title": {
            "standoff": 15
           },
           "zerolinecolor": "white",
           "zerolinewidth": 2
          },
          "yaxis": {
           "automargin": true,
           "gridcolor": "white",
           "linecolor": "white",
           "ticks": "",
           "title": {
            "standoff": 15
           },
           "zerolinecolor": "white",
           "zerolinewidth": 2
          }
         }
        },
        "xaxis": {
         "anchor": "y",
         "domain": [
          0,
          1
         ],
         "title": {
          "text": "Datetime"
         }
        },
        "yaxis": {
         "anchor": "x",
         "domain": [
          0,
          1
         ],
         "title": {
          "text": "value"
         }
        }
       }
      }
     },
     "metadata": {},
     "output_type": "display_data"
    }
   ],
   "source": [
    "model.load_weights(path_checkpoint)\n",
    "y_valid_pred = model.predict(X_valid)\n",
    "df_valid['y_pred'] = y_valid_pred.flatten()\n",
    "#df_valid['y_pred'] = one_hot_of_peaks(df_valid.y_pred)\n",
    "#df_valid['y_pred_xform'] = df_valid.y_pred.diff()\n",
    "df_valid[['y','y_pred','NP1dOH']].head(168).plot()\n"
   ]
  },
  {
   "attachments": {},
   "cell_type": "markdown",
   "metadata": {},
   "source": [
    "# sandbox"
   ]
  },
  {
   "cell_type": "code",
   "execution_count": 41,
   "metadata": {},
   "outputs": [
    {
     "data": {
      "text/html": [
       "<div>\n",
       "<style scoped>\n",
       "    .dataframe tbody tr th:only-of-type {\n",
       "        vertical-align: middle;\n",
       "    }\n",
       "\n",
       "    .dataframe tbody tr th {\n",
       "        vertical-align: top;\n",
       "    }\n",
       "\n",
       "    .dataframe thead th {\n",
       "        text-align: right;\n",
       "    }\n",
       "</style>\n",
       "<table border=\"1\" class=\"dataframe\">\n",
       "  <thead>\n",
       "    <tr style=\"text-align: right;\">\n",
       "      <th></th>\n",
       "      <th>Load (kW)</th>\n",
       "      <th>IMF1</th>\n",
       "      <th>IMF2</th>\n",
       "      <th>IMF3</th>\n",
       "      <th>IMF4</th>\n",
       "      <th>IMF5</th>\n",
       "      <th>IMF6</th>\n",
       "      <th>IMF7</th>\n",
       "      <th>IMF8</th>\n",
       "      <th>Day</th>\n",
       "      <th>Hour</th>\n",
       "      <th>Weekday</th>\n",
       "    </tr>\n",
       "    <tr>\n",
       "      <th>Datetime</th>\n",
       "      <th></th>\n",
       "      <th></th>\n",
       "      <th></th>\n",
       "      <th></th>\n",
       "      <th></th>\n",
       "      <th></th>\n",
       "      <th></th>\n",
       "      <th></th>\n",
       "      <th></th>\n",
       "      <th></th>\n",
       "      <th></th>\n",
       "      <th></th>\n",
       "    </tr>\n",
       "  </thead>\n",
       "  <tbody>\n",
       "    <tr>\n",
       "      <th>2021-06-07 00:00:00</th>\n",
       "      <td>311.51</td>\n",
       "      <td>17.51</td>\n",
       "      <td>-56.78</td>\n",
       "      <td>-49.88</td>\n",
       "      <td>-9.30</td>\n",
       "      <td>1.45</td>\n",
       "      <td>3.15</td>\n",
       "      <td>0.32</td>\n",
       "      <td>405.04</td>\n",
       "      <td>24</td>\n",
       "      <td>0</td>\n",
       "      <td>3</td>\n",
       "    </tr>\n",
       "    <tr>\n",
       "      <th>2021-06-07 01:00:00</th>\n",
       "      <td>292.06</td>\n",
       "      <td>-9.53</td>\n",
       "      <td>-51.17</td>\n",
       "      <td>-48.19</td>\n",
       "      <td>-9.21</td>\n",
       "      <td>1.68</td>\n",
       "      <td>3.11</td>\n",
       "      <td>0.31</td>\n",
       "      <td>405.07</td>\n",
       "      <td>24</td>\n",
       "      <td>1</td>\n",
       "      <td>3</td>\n",
       "    </tr>\n",
       "    <tr>\n",
       "      <th>2021-06-07 02:00:00</th>\n",
       "      <td>279.75</td>\n",
       "      <td>-30.10</td>\n",
       "      <td>-44.99</td>\n",
       "      <td>-46.41</td>\n",
       "      <td>-9.12</td>\n",
       "      <td>1.91</td>\n",
       "      <td>3.08</td>\n",
       "      <td>0.29</td>\n",
       "      <td>405.09</td>\n",
       "      <td>24</td>\n",
       "      <td>2</td>\n",
       "      <td>3</td>\n",
       "    </tr>\n",
       "    <tr>\n",
       "      <th>2021-06-07 03:00:00</th>\n",
       "      <td>273.09</td>\n",
       "      <td>-45.55</td>\n",
       "      <td>-38.38</td>\n",
       "      <td>-44.54</td>\n",
       "      <td>-9.02</td>\n",
       "      <td>2.15</td>\n",
       "      <td>3.05</td>\n",
       "      <td>0.27</td>\n",
       "      <td>405.11</td>\n",
       "      <td>24</td>\n",
       "      <td>3</td>\n",
       "      <td>3</td>\n",
       "    </tr>\n",
       "    <tr>\n",
       "      <th>2021-06-07 04:00:00</th>\n",
       "      <td>272.58</td>\n",
       "      <td>-55.24</td>\n",
       "      <td>-31.46</td>\n",
       "      <td>-42.59</td>\n",
       "      <td>-8.92</td>\n",
       "      <td>2.38</td>\n",
       "      <td>3.02</td>\n",
       "      <td>0.26</td>\n",
       "      <td>405.13</td>\n",
       "      <td>24</td>\n",
       "      <td>4</td>\n",
       "      <td>3</td>\n",
       "    </tr>\n",
       "    <tr>\n",
       "      <th>...</th>\n",
       "      <td>...</td>\n",
       "      <td>...</td>\n",
       "      <td>...</td>\n",
       "      <td>...</td>\n",
       "      <td>...</td>\n",
       "      <td>...</td>\n",
       "      <td>...</td>\n",
       "      <td>...</td>\n",
       "      <td>...</td>\n",
       "      <td>...</td>\n",
       "      <td>...</td>\n",
       "      <td>...</td>\n",
       "    </tr>\n",
       "    <tr>\n",
       "      <th>2022-08-10 19:00:00</th>\n",
       "      <td>634.63</td>\n",
       "      <td>128.99</td>\n",
       "      <td>12.11</td>\n",
       "      <td>17.50</td>\n",
       "      <td>1.15</td>\n",
       "      <td>17.07</td>\n",
       "      <td>-25.91</td>\n",
       "      <td>63.97</td>\n",
       "      <td>419.76</td>\n",
       "      <td>40</td>\n",
       "      <td>5</td>\n",
       "      <td>1</td>\n",
       "    </tr>\n",
       "    <tr>\n",
       "      <th>2022-08-10 20:00:00</th>\n",
       "      <td>599.99</td>\n",
       "      <td>94.29</td>\n",
       "      <td>11.28</td>\n",
       "      <td>18.44</td>\n",
       "      <td>1.17</td>\n",
       "      <td>16.99</td>\n",
       "      <td>-25.89</td>\n",
       "      <td>63.95</td>\n",
       "      <td>419.76</td>\n",
       "      <td>40</td>\n",
       "      <td>4</td>\n",
       "      <td>1</td>\n",
       "    </tr>\n",
       "    <tr>\n",
       "      <th>2022-08-10 21:00:00</th>\n",
       "      <td>555.08</td>\n",
       "      <td>49.33</td>\n",
       "      <td>10.45</td>\n",
       "      <td>19.38</td>\n",
       "      <td>1.18</td>\n",
       "      <td>16.91</td>\n",
       "      <td>-25.87</td>\n",
       "      <td>63.94</td>\n",
       "      <td>419.77</td>\n",
       "      <td>40</td>\n",
       "      <td>3</td>\n",
       "      <td>1</td>\n",
       "    </tr>\n",
       "    <tr>\n",
       "      <th>2022-08-10 22:00:00</th>\n",
       "      <td>493.92</td>\n",
       "      <td>-11.89</td>\n",
       "      <td>9.62</td>\n",
       "      <td>20.32</td>\n",
       "      <td>1.19</td>\n",
       "      <td>16.83</td>\n",
       "      <td>-25.84</td>\n",
       "      <td>63.92</td>\n",
       "      <td>419.77</td>\n",
       "      <td>40</td>\n",
       "      <td>2</td>\n",
       "      <td>1</td>\n",
       "    </tr>\n",
       "    <tr>\n",
       "      <th>2022-08-10 23:00:00</th>\n",
       "      <td>441.14</td>\n",
       "      <td>-64.73</td>\n",
       "      <td>8.80</td>\n",
       "      <td>21.26</td>\n",
       "      <td>1.19</td>\n",
       "      <td>16.76</td>\n",
       "      <td>-25.82</td>\n",
       "      <td>63.91</td>\n",
       "      <td>419.77</td>\n",
       "      <td>40</td>\n",
       "      <td>1</td>\n",
       "      <td>1</td>\n",
       "    </tr>\n",
       "  </tbody>\n",
       "</table>\n",
       "<p>10320 rows × 12 columns</p>\n",
       "</div>"
      ],
      "text/plain": [
       "                     Load (kW)    IMF1   IMF2   IMF3  IMF4   IMF5   IMF6  \\\n",
       "Datetime                                                                   \n",
       "2021-06-07 00:00:00     311.51   17.51 -56.78 -49.88 -9.30   1.45   3.15   \n",
       "2021-06-07 01:00:00     292.06   -9.53 -51.17 -48.19 -9.21   1.68   3.11   \n",
       "2021-06-07 02:00:00     279.75  -30.10 -44.99 -46.41 -9.12   1.91   3.08   \n",
       "2021-06-07 03:00:00     273.09  -45.55 -38.38 -44.54 -9.02   2.15   3.05   \n",
       "2021-06-07 04:00:00     272.58  -55.24 -31.46 -42.59 -8.92   2.38   3.02   \n",
       "...                        ...     ...    ...    ...   ...    ...    ...   \n",
       "2022-08-10 19:00:00     634.63  128.99  12.11  17.50  1.15  17.07 -25.91   \n",
       "2022-08-10 20:00:00     599.99   94.29  11.28  18.44  1.17  16.99 -25.89   \n",
       "2022-08-10 21:00:00     555.08   49.33  10.45  19.38  1.18  16.91 -25.87   \n",
       "2022-08-10 22:00:00     493.92  -11.89   9.62  20.32  1.19  16.83 -25.84   \n",
       "2022-08-10 23:00:00     441.14  -64.73   8.80  21.26  1.19  16.76 -25.82   \n",
       "\n",
       "                      IMF7    IMF8  Day  Hour  Weekday  \n",
       "Datetime                                                \n",
       "2021-06-07 00:00:00   0.32  405.04   24     0        3  \n",
       "2021-06-07 01:00:00   0.31  405.07   24     1        3  \n",
       "2021-06-07 02:00:00   0.29  405.09   24     2        3  \n",
       "2021-06-07 03:00:00   0.27  405.11   24     3        3  \n",
       "2021-06-07 04:00:00   0.26  405.13   24     4        3  \n",
       "...                    ...     ...  ...   ...      ...  \n",
       "2022-08-10 19:00:00  63.97  419.76   40     5        1  \n",
       "2022-08-10 20:00:00  63.95  419.76   40     4        1  \n",
       "2022-08-10 21:00:00  63.94  419.77   40     3        1  \n",
       "2022-08-10 22:00:00  63.92  419.77   40     2        1  \n",
       "2022-08-10 23:00:00  63.91  419.77   40     1        1  \n",
       "\n",
       "[10320 rows x 12 columns]"
      ]
     },
     "execution_count": 41,
     "metadata": {},
     "output_type": "execute_result"
    }
   ],
   "source": [
    "df,dppd,np_days = get_dat(site,filename,emd=True,rename=True,start=data_range[0],end=data_range[1])\n",
    "df"
   ]
  }
 ],
 "metadata": {
  "kernelspec": {
   "display_name": "tf-scip2",
   "language": "python",
   "name": "python3"
  },
  "language_info": {
   "codemirror_mode": {
    "name": "ipython",
    "version": 3
   },
   "file_extension": ".py",
   "mimetype": "text/x-python",
   "name": "python",
   "nbconvert_exporter": "python",
   "pygments_lexer": "ipython3",
   "version": "3.8.0"
  },
  "orig_nbformat": 4,
  "vscode": {
   "interpreter": {
    "hash": "4f8d946f6c6df69c3c75f6ca5805fbe3bcdfda4a846ef7d62a7da9bc134420d4"
   }
  }
 },
 "nbformat": 4,
 "nbformat_minor": 2
}

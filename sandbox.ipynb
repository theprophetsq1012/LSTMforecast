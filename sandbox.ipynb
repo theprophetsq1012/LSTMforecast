{
 "cells": [
  {
   "cell_type": "code",
   "execution_count": 15,
   "metadata": {},
   "outputs": [],
   "source": [
    "import json\n",
    "\n",
    "# as requested in comment\n",
    "c = {'site': 'prpa',\n",
    "     'filename': 'data/PRPA_load_cleaned_mjw.csv',\n",
    "     'dir':'models',\n",
    "     'features':['Load (kW)',\n",
    "            'Day',\n",
    "            'Weekday',\n",
    "            'Hour',\n",
    "            'IMF1',                                \n",
    "            'IMF2',                                \n",
    "            'IMF3',\n",
    "            'IMF4',\n",
    "            'IMF5',\n",
    "            'IMF6',\n",
    "            'IMF7',\n",
    "            'IMF8',\n",
    "            'NP1dOH'],\n",
    "    'rnn_type':'gru',\n",
    "    'units':24,\n",
    "    'layers':2,\n",
    "    'dropout':0,\n",
    "    'afuncs':{'lstm':'relu','dense':'relu','gru':'relu'},\n",
    "    'sequence_length':24,\n",
    "    'epochs':100,\n",
    "    'patience':20,\n",
    "    'train_split': 0.9,\n",
    "    'shift_steps': 1,\n",
    "    'loss':'binary_crossentropy',\n",
    "    'verbose':0,\n",
    "    'output':True,\n",
    "    'plots':False,\n",
    "    'metrics':['accuracy']}\n",
    "\n",
    "with open('c.json', 'w') as file:\n",
    "     file.write(json.dumps(c)) # use `json.loads` to do the reverse"
   ]
  }
 ],
 "metadata": {
  "kernelspec": {
   "display_name": "tf-scip2",
   "language": "python",
   "name": "python3"
  },
  "language_info": {
   "codemirror_mode": {
    "name": "ipython",
    "version": 3
   },
   "file_extension": ".py",
   "mimetype": "text/x-python",
   "name": "python",
   "nbconvert_exporter": "python",
   "pygments_lexer": "ipython3",
   "version": "3.8.0 | packaged by conda-forge | (default, Nov 22 2019, 19:11:38) \n[GCC 7.3.0]"
  },
  "orig_nbformat": 4,
  "vscode": {
   "interpreter": {
    "hash": "4f8d946f6c6df69c3c75f6ca5805fbe3bcdfda4a846ef7d62a7da9bc134420d4"
   }
  }
 },
 "nbformat": 4,
 "nbformat_minor": 2
}

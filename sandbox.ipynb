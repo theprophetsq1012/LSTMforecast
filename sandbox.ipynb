{
 "cells": [
  {
   "cell_type": "code",
   "execution_count": 2,
   "metadata": {},
   "outputs": [],
   "source": [
    "import numpy as np\n",
    "import pandas as pd\n",
    "from sklearn.preprocessing import MinMaxScaler"
   ]
  },
  {
   "cell_type": "code",
   "execution_count": 10,
   "metadata": {},
   "outputs": [],
   "source": [
    "def batch_generator(batch_size, sequence_length, num_x_signals, num_y_signals, num_train, x_train_scaled, y_train_scaled):\n",
    "    \n",
    "    # Infinite loop.\n",
    "    while True:\n",
    "        # Allocate a new array for the batch of input-signals.\n",
    "        x_shape = (batch_size, sequence_length, num_x_signals)\n",
    "        x_batch = np.zeros(shape=x_shape, dtype=np.float16)\n",
    "\n",
    "        # Allocate a new array for the batch of output-signals.\n",
    "        y_shape = (batch_size, sequence_length, num_y_signals)\n",
    "        y_batch = np.zeros(shape=y_shape, dtype=np.float16)\n",
    "\n",
    "        # Fill the batch with random sequences of data.\n",
    "        for i in range(batch_size):\n",
    "            # Get a random start-index.\n",
    "            # This points somewhere into the training-data.\n",
    "            idx = np.random.randint(num_train - sequence_length) # num_train = 299776\n",
    "            \n",
    "            # Copy the sequences of data starting at this index.\n",
    "            x_batch[i] = x_train_scaled[idx:idx+sequence_length]\n",
    "            y_batch[i] = y_train_scaled[idx:idx+sequence_length]\n",
    "        \n",
    "        yield (x_batch, y_batch)   \n",
    "\n",
    "def organize_dat_v3(df, shift_steps=96, sequence_length=96*7*2):\n",
    "    train_split = 0.9\n",
    "    batch_size = 256\n",
    "\n",
    "    # scalers\n",
    "    feature_scaler = MinMaxScaler()\n",
    "    load_scaler = MinMaxScaler()\n",
    "\n",
    "    # shift for forecast\n",
    "    #shift_steps = 1 * 24 * 4  # Number of time steps\n",
    "    df_targets = df['Load (kW)'].shift(-shift_steps)\n",
    "\n",
    "    # scale and adjust the length\n",
    "    x_data = feature_scaler.fit_transform(df.values)[0:-shift_steps]\n",
    "    y_data = load_scaler.fit_transform(df_targets.values[:-shift_steps,np.newaxis])\n",
    "    #y_data = np.expand_dims(y_data,axis=1)\n",
    "\n",
    "    num_data = len(x_data)\n",
    "    num_train = int(train_split * num_data)\n",
    "    num_test = num_data - num_train\n",
    "\n",
    "    x_train = x_data[0:num_train]\n",
    "    x_test = x_data[num_train:]\n",
    "    len(x_train) + len(x_test)\n",
    "\n",
    "    y_train = y_data[0:num_train]\n",
    "    y_test = y_data[num_train:]\n",
    "    len(y_train) + len(y_test)\n",
    "\n",
    "    num_x_signals = x_data.shape[1]\n",
    "    num_y_signals = y_data.shape[1]\n",
    "\n",
    "    generator = batch_generator(  batch_size,\n",
    "                                  sequence_length,\n",
    "                                  num_x_signals,\n",
    "                                  num_y_signals,\n",
    "                                  num_train,\n",
    "                                  x_train,\n",
    "                                  y_train)\n",
    "\n",
    "    x_batch, y_batch = next(generator)\n",
    "\n",
    "    validation_data = ( np.expand_dims(x_test, axis=0),\n",
    "                        np.expand_dims(y_test, axis=0))\n",
    "\n",
    "    df = df.iloc[:-shift_steps, :]\n",
    "    df = df.iloc[num_train:, :]\n",
    "    return (num_x_signals, num_y_signals, generator, validation_data, load_scaler, df)\n",
    "\n",
    "def rmse(y_true, y_pred):\n",
    "  return np.sqrt(np.mean(np.square(y_true - y_pred)))"
   ]
  },
  {
   "cell_type": "code",
   "execution_count": 4,
   "metadata": {},
   "outputs": [
    {
     "data": {
      "text/html": [
       "<div>\n",
       "<style scoped>\n",
       "    .dataframe tbody tr th:only-of-type {\n",
       "        vertical-align: middle;\n",
       "    }\n",
       "\n",
       "    .dataframe tbody tr th {\n",
       "        vertical-align: top;\n",
       "    }\n",
       "\n",
       "    .dataframe thead th {\n",
       "        text-align: right;\n",
       "    }\n",
       "</style>\n",
       "<table border=\"1\" class=\"dataframe\">\n",
       "  <thead>\n",
       "    <tr style=\"text-align: right;\">\n",
       "      <th></th>\n",
       "      <th>Load (kW)</th>\n",
       "    </tr>\n",
       "    <tr>\n",
       "      <th>Datetime MT</th>\n",
       "      <th></th>\n",
       "    </tr>\n",
       "  </thead>\n",
       "  <tbody>\n",
       "    <tr>\n",
       "      <th>2005-12-06 00:00:00</th>\n",
       "      <td>0.980</td>\n",
       "    </tr>\n",
       "    <tr>\n",
       "      <th>2005-12-06 01:00:00</th>\n",
       "      <td>0.980</td>\n",
       "    </tr>\n",
       "    <tr>\n",
       "      <th>2005-12-06 02:00:00</th>\n",
       "      <td>0.980</td>\n",
       "    </tr>\n",
       "    <tr>\n",
       "      <th>2005-12-06 03:00:00</th>\n",
       "      <td>0.980</td>\n",
       "    </tr>\n",
       "    <tr>\n",
       "      <th>2005-12-06 04:00:00</th>\n",
       "      <td>0.980</td>\n",
       "    </tr>\n",
       "    <tr>\n",
       "      <th>...</th>\n",
       "      <td>...</td>\n",
       "    </tr>\n",
       "    <tr>\n",
       "      <th>2022-05-03 05:00:00</th>\n",
       "      <td>1.639</td>\n",
       "    </tr>\n",
       "    <tr>\n",
       "      <th>2022-05-03 06:00:00</th>\n",
       "      <td>1.637</td>\n",
       "    </tr>\n",
       "    <tr>\n",
       "      <th>2022-05-03 07:00:00</th>\n",
       "      <td>0.639</td>\n",
       "    </tr>\n",
       "    <tr>\n",
       "      <th>2022-05-03 08:00:00</th>\n",
       "      <td>0.318</td>\n",
       "    </tr>\n",
       "    <tr>\n",
       "      <th>2022-05-03 09:00:00</th>\n",
       "      <td>0.288</td>\n",
       "    </tr>\n",
       "  </tbody>\n",
       "</table>\n",
       "<p>143818 rows × 1 columns</p>\n",
       "</div>"
      ],
      "text/plain": [
       "                     Load (kW)\n",
       "Datetime MT                   \n",
       "2005-12-06 00:00:00      0.980\n",
       "2005-12-06 01:00:00      0.980\n",
       "2005-12-06 02:00:00      0.980\n",
       "2005-12-06 03:00:00      0.980\n",
       "2005-12-06 04:00:00      0.980\n",
       "...                        ...\n",
       "2022-05-03 05:00:00      1.639\n",
       "2022-05-03 06:00:00      1.637\n",
       "2022-05-03 07:00:00      0.639\n",
       "2022-05-03 08:00:00      0.318\n",
       "2022-05-03 09:00:00      0.288\n",
       "\n",
       "[143818 rows x 1 columns]"
      ]
     },
     "execution_count": 4,
     "metadata": {},
     "output_type": "execute_result"
    }
   ],
   "source": [
    "df = pd.read_csv('data/HabitatZEH_60min_processed2_mjw.csv',\n",
    "                 comment='#',\n",
    "                 index_col=0,\n",
    "                 parse_dates=True)\n",
    "df"
   ]
  },
  {
   "cell_type": "code",
   "execution_count": 5,
   "metadata": {},
   "outputs": [],
   "source": [
    "num_x_signals, num_y_signals, generator, validation_data, load_scaler, dfv = organize_dat_v3(df, shift_steps=24, sequence_length=24)"
   ]
  },
  {
   "cell_type": "code",
   "execution_count": 6,
   "metadata": {},
   "outputs": [
    {
     "data": {
      "text/plain": [
       "(1, 14380, 1)"
      ]
     },
     "execution_count": 6,
     "metadata": {},
     "output_type": "execute_result"
    }
   ],
   "source": [
    "xv,yv = validation_data\n",
    "yv.shape"
   ]
  },
  {
   "cell_type": "code",
   "execution_count": 7,
   "metadata": {},
   "outputs": [
    {
     "data": {
      "text/html": [
       "<div>\n",
       "<style scoped>\n",
       "    .dataframe tbody tr th:only-of-type {\n",
       "        vertical-align: middle;\n",
       "    }\n",
       "\n",
       "    .dataframe tbody tr th {\n",
       "        vertical-align: top;\n",
       "    }\n",
       "\n",
       "    .dataframe thead th {\n",
       "        text-align: right;\n",
       "    }\n",
       "</style>\n",
       "<table border=\"1\" class=\"dataframe\">\n",
       "  <thead>\n",
       "    <tr style=\"text-align: right;\">\n",
       "      <th></th>\n",
       "      <th>Load (kW)</th>\n",
       "    </tr>\n",
       "    <tr>\n",
       "      <th>Datetime MT</th>\n",
       "      <th></th>\n",
       "    </tr>\n",
       "  </thead>\n",
       "  <tbody>\n",
       "    <tr>\n",
       "      <th>2020-09-10 06:00:00</th>\n",
       "      <td>0.136</td>\n",
       "    </tr>\n",
       "    <tr>\n",
       "      <th>2020-09-10 07:00:00</th>\n",
       "      <td>0.130</td>\n",
       "    </tr>\n",
       "    <tr>\n",
       "      <th>2020-09-10 08:00:00</th>\n",
       "      <td>0.133</td>\n",
       "    </tr>\n",
       "    <tr>\n",
       "      <th>2020-09-10 09:00:00</th>\n",
       "      <td>0.381</td>\n",
       "    </tr>\n",
       "    <tr>\n",
       "      <th>2020-09-10 10:00:00</th>\n",
       "      <td>0.400</td>\n",
       "    </tr>\n",
       "    <tr>\n",
       "      <th>...</th>\n",
       "      <td>...</td>\n",
       "    </tr>\n",
       "    <tr>\n",
       "      <th>2022-05-02 05:00:00</th>\n",
       "      <td>1.650</td>\n",
       "    </tr>\n",
       "    <tr>\n",
       "      <th>2022-05-02 06:00:00</th>\n",
       "      <td>2.543</td>\n",
       "    </tr>\n",
       "    <tr>\n",
       "      <th>2022-05-02 07:00:00</th>\n",
       "      <td>1.676</td>\n",
       "    </tr>\n",
       "    <tr>\n",
       "      <th>2022-05-02 08:00:00</th>\n",
       "      <td>1.499</td>\n",
       "    </tr>\n",
       "    <tr>\n",
       "      <th>2022-05-02 09:00:00</th>\n",
       "      <td>1.484</td>\n",
       "    </tr>\n",
       "  </tbody>\n",
       "</table>\n",
       "<p>14380 rows × 1 columns</p>\n",
       "</div>"
      ],
      "text/plain": [
       "                     Load (kW)\n",
       "Datetime MT                   \n",
       "2020-09-10 06:00:00      0.136\n",
       "2020-09-10 07:00:00      0.130\n",
       "2020-09-10 08:00:00      0.133\n",
       "2020-09-10 09:00:00      0.381\n",
       "2020-09-10 10:00:00      0.400\n",
       "...                        ...\n",
       "2022-05-02 05:00:00      1.650\n",
       "2022-05-02 06:00:00      2.543\n",
       "2022-05-02 07:00:00      1.676\n",
       "2022-05-02 08:00:00      1.499\n",
       "2022-05-02 09:00:00      1.484\n",
       "\n",
       "[14380 rows x 1 columns]"
      ]
     },
     "execution_count": 7,
     "metadata": {},
     "output_type": "execute_result"
    }
   ],
   "source": [
    "dfv"
   ]
  },
  {
   "cell_type": "code",
   "execution_count": 14,
   "metadata": {},
   "outputs": [],
   "source": [
    "dppd = {'H':24,'15T':96,'T':1440}[df.index.inferred_freq]\n",
    "  \n",
    "d = df['Load (kW)'].values.flatten()\n",
    "rmse_np1d = rmse(d[(dppd*1):],d[:-(dppd*1)])\n",
    "rmse_np7d = rmse(d[(dppd*7):],d[:-(dppd*7)])\n",
    "\n",
    "if rmse_np1d < rmse_np7d:\n",
    "    np_days = 1\n",
    "else:\n",
    "    np_days = 7"
   ]
  },
  {
   "cell_type": "code",
   "execution_count": 18,
   "metadata": {},
   "outputs": [
    {
     "data": {
      "text/plain": [
       "0.7314991402154167"
      ]
     },
     "execution_count": 18,
     "metadata": {},
     "output_type": "execute_result"
    }
   ],
   "source": [
    "rmse(d,np.concatenate((d[dppd*np_days:],d[-(dppd*np_days):])))"
   ]
  }
 ],
 "metadata": {
  "kernelspec": {
   "display_name": "tf-scip2",
   "language": "python",
   "name": "python3"
  },
  "language_info": {
   "codemirror_mode": {
    "name": "ipython",
    "version": 3
   },
   "file_extension": ".py",
   "mimetype": "text/x-python",
   "name": "python",
   "nbconvert_exporter": "python",
   "pygments_lexer": "ipython3",
   "version": "3.8.0"
  },
  "orig_nbformat": 4,
  "vscode": {
   "interpreter": {
    "hash": "4f8d946f6c6df69c3c75f6ca5805fbe3bcdfda4a846ef7d62a7da9bc134420d4"
   }
  }
 },
 "nbformat": 4,
 "nbformat_minor": 2
}
